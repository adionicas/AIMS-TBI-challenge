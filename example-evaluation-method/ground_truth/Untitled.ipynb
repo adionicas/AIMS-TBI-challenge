{
 "cells": [
  {
   "cell_type": "code",
   "execution_count": 1,
   "id": "6aafc535-6352-4db4-a396-e6844a0dee35",
   "metadata": {},
   "outputs": [
    {
     "name": "stdout",
     "output_type": "stream",
     "text": [
      "Intel MKL WARNING: Support of Intel(R) Streaming SIMD Extensions 4.2 (Intel(R) SSE4.2) enabled only processors has been deprecated. Intel oneAPI Math Kernel Library 2025.0 will require Intel(R) Advanced Vector Extensions (Intel(R) AVX) instructions.\n",
      "Intel MKL WARNING: Support of Intel(R) Streaming SIMD Extensions 4.2 (Intel(R) SSE4.2) enabled only processors has been deprecated. Intel oneAPI Math Kernel Library 2025.0 will require Intel(R) Advanced Vector Extensions (Intel(R) AVX) instructions.\n"
     ]
    }
   ],
   "source": [
    "import SimpleITK as sitk"
   ]
  },
  {
   "cell_type": "code",
   "execution_count": 2,
   "id": "d14569ce-9b6a-4eb6-977a-6f28ec5ba35f",
   "metadata": {},
   "outputs": [
    {
     "data": {
      "text/plain": [
       "'/Users/oni/Documents/Emily/AIMS_TBI_evaluation_May24/example-evaluation-method/ground_truth'"
      ]
     },
     "execution_count": 2,
     "metadata": {},
     "output_type": "execute_result"
    }
   ],
   "source": [
    "pwd"
   ]
  },
  {
   "cell_type": "code",
   "execution_count": null,
   "id": "538acd15-673e-4551-bee1-d63154c54b51",
   "metadata": {},
   "outputs": [
    {
     "name": "stderr",
     "output_type": "stream",
     "text": [
      "WARNING: In /Users/runner/work/1/sitk-build/ITK/Modules/IO/Meta/src/itkMetaImageIO.cxx, line 653\n",
      "MetaImageIO (0x7feb9f39e800): Unsupported or empty metaData item aux_file of type NSt3__112basic_stringIcNS_11char_traitsIcEENS_9allocatorIcEEEEfound, won't be written to image file\n",
      "\n",
      "WARNING: In /Users/runner/work/1/sitk-build/ITK/Modules/IO/Meta/src/itkMetaImageIO.cxx, line 653\n",
      "MetaImageIO (0x7feb9f39e800): Unsupported or empty metaData item intent_name of type NSt3__112basic_stringIcNS_11char_traitsIcEENS_9allocatorIcEEEEfound, won't be written to image file\n",
      "\n",
      "WARNING: In /Users/runner/work/1/sitk-build/ITK/Modules/IO/Meta/src/itkMetaImageIO.cxx, line 653\n",
      "MetaImageIO (0x7feb9f39e800): Unsupported or empty metaData item qto_xyz of type N3itk6MatrixIfLj4ELj4EEEfound, won't be written to image file\n",
      "\n"
     ]
    },
    {
     "name": "stdout",
     "output_type": "stream",
     "text": [
      "Converted /Users/oni/Documents/Emily/AIMS_TBI_evaluation_May24/example-evaluation-method/test/input/scan_1033_Lesion_dilated.nii.gz to /Users/oni/Documents/Emily/AIMS_TBI_evaluation_May24/example-evaluation-method/test/input/scan_1033_Lesion_dilated.mha\n",
      "Converted /Users/oni/Documents/Emily/AIMS_TBI_evaluation_May24/example-evaluation-method/test/input/scan_0053_Lesion_dilated.nii.gz to /Users/oni/Documents/Emily/AIMS_TBI_evaluation_May24/example-evaluation-method/test/input/scan_0053_Lesion_dilated.mha\n"
     ]
    },
    {
     "name": "stderr",
     "output_type": "stream",
     "text": [
      "WARNING: In /Users/runner/work/1/sitk-build/ITK/Modules/IO/Meta/src/itkMetaImageIO.cxx, line 653\n",
      "MetaImageIO (0x7feb9f3ac800): Unsupported or empty metaData item aux_file of type NSt3__112basic_stringIcNS_11char_traitsIcEENS_9allocatorIcEEEEfound, won't be written to image file\n",
      "\n",
      "WARNING: In /Users/runner/work/1/sitk-build/ITK/Modules/IO/Meta/src/itkMetaImageIO.cxx, line 653\n",
      "MetaImageIO (0x7feb9f3ac800): Unsupported or empty metaData item intent_name of type NSt3__112basic_stringIcNS_11char_traitsIcEENS_9allocatorIcEEEEfound, won't be written to image file\n",
      "\n",
      "WARNING: In /Users/runner/work/1/sitk-build/ITK/Modules/IO/Meta/src/itkMetaImageIO.cxx, line 653\n",
      "MetaImageIO (0x7feb9f3ac800): Unsupported or empty metaData item qto_xyz of type N3itk6MatrixIfLj4ELj4EEEfound, won't be written to image file\n",
      "\n",
      "WARNING: In /Users/runner/work/1/sitk-build/ITK/Modules/IO/Meta/src/itkMetaImageIO.cxx, line 653\n",
      "MetaImageIO (0x7feb6f815200): Unsupported or empty metaData item aux_file of type NSt3__112basic_stringIcNS_11char_traitsIcEENS_9allocatorIcEEEEfound, won't be written to image file\n",
      "\n",
      "WARNING: In /Users/runner/work/1/sitk-build/ITK/Modules/IO/Meta/src/itkMetaImageIO.cxx, line 653\n",
      "MetaImageIO (0x7feb6f815200): Unsupported or empty metaData item intent_name of type NSt3__112basic_stringIcNS_11char_traitsIcEENS_9allocatorIcEEEEfound, won't be written to image file\n",
      "\n",
      "WARNING: In /Users/runner/work/1/sitk-build/ITK/Modules/IO/Meta/src/itkMetaImageIO.cxx, line 653\n",
      "MetaImageIO (0x7feb6f815200): Unsupported or empty metaData item qto_xyz of type N3itk6MatrixIfLj4ELj4EEEfound, won't be written to image file\n",
      "\n"
     ]
    },
    {
     "name": "stdout",
     "output_type": "stream",
     "text": [
      "Converted /Users/oni/Documents/Emily/AIMS_TBI_evaluation_May24/example-evaluation-method/test/input/scan_0379_Lesion_dilated.nii.gz to /Users/oni/Documents/Emily/AIMS_TBI_evaluation_May24/example-evaluation-method/test/input/scan_0379_Lesion_dilated.mha\n"
     ]
    },
    {
     "name": "stderr",
     "output_type": "stream",
     "text": [
      "WARNING: In /Users/runner/work/1/sitk-build/ITK/Modules/IO/Meta/src/itkMetaImageIO.cxx, line 653\n",
      "MetaImageIO (0x7feb9f3ac600): Unsupported or empty metaData item aux_file of type NSt3__112basic_stringIcNS_11char_traitsIcEENS_9allocatorIcEEEEfound, won't be written to image file\n",
      "\n",
      "WARNING: In /Users/runner/work/1/sitk-build/ITK/Modules/IO/Meta/src/itkMetaImageIO.cxx, line 653\n",
      "MetaImageIO (0x7feb9f3ac600): Unsupported or empty metaData item intent_name of type NSt3__112basic_stringIcNS_11char_traitsIcEENS_9allocatorIcEEEEfound, won't be written to image file\n",
      "\n",
      "WARNING: In /Users/runner/work/1/sitk-build/ITK/Modules/IO/Meta/src/itkMetaImageIO.cxx, line 653\n",
      "MetaImageIO (0x7feb9f3ac600): Unsupported or empty metaData item qto_xyz of type N3itk6MatrixIfLj4ELj4EEEfound, won't be written to image file\n",
      "\n"
     ]
    },
    {
     "name": "stdout",
     "output_type": "stream",
     "text": [
      "Converted /Users/oni/Documents/Emily/AIMS_TBI_evaluation_May24/example-evaluation-method/test/input/scan_0104_Lesion_dilated.nii.gz to /Users/oni/Documents/Emily/AIMS_TBI_evaluation_May24/example-evaluation-method/test/input/scan_0104_Lesion_dilated.mha\n",
      "Converted /Users/oni/Documents/Emily/AIMS_TBI_evaluation_May24/example-evaluation-method/test/input/scan_0413_Lesion_dilated.nii.gz to /Users/oni/Documents/Emily/AIMS_TBI_evaluation_May24/example-evaluation-method/test/input/scan_0413_Lesion_dilated.mha\n"
     ]
    },
    {
     "name": "stderr",
     "output_type": "stream",
     "text": [
      "WARNING: In /Users/runner/work/1/sitk-build/ITK/Modules/IO/Meta/src/itkMetaImageIO.cxx, line 653\n",
      "MetaImageIO (0x7feb6f815c00): Unsupported or empty metaData item aux_file of type NSt3__112basic_stringIcNS_11char_traitsIcEENS_9allocatorIcEEEEfound, won't be written to image file\n",
      "\n",
      "WARNING: In /Users/runner/work/1/sitk-build/ITK/Modules/IO/Meta/src/itkMetaImageIO.cxx, line 653\n",
      "MetaImageIO (0x7feb6f815c00): Unsupported or empty metaData item intent_name of type NSt3__112basic_stringIcNS_11char_traitsIcEENS_9allocatorIcEEEEfound, won't be written to image file\n",
      "\n",
      "WARNING: In /Users/runner/work/1/sitk-build/ITK/Modules/IO/Meta/src/itkMetaImageIO.cxx, line 653\n",
      "MetaImageIO (0x7feb6f815c00): Unsupported or empty metaData item qto_xyz of type N3itk6MatrixIfLj4ELj4EEEfound, won't be written to image file\n",
      "\n",
      "WARNING: In /Users/runner/work/1/sitk-build/ITK/Modules/IO/Meta/src/itkMetaImageIO.cxx, line 653\n",
      "MetaImageIO (0x7feb9f3ac800): Unsupported or empty metaData item aux_file of type NSt3__112basic_stringIcNS_11char_traitsIcEENS_9allocatorIcEEEEfound, won't be written to image file\n",
      "\n",
      "WARNING: In /Users/runner/work/1/sitk-build/ITK/Modules/IO/Meta/src/itkMetaImageIO.cxx, line 653\n",
      "MetaImageIO (0x7feb9f3ac800): Unsupported or empty metaData item intent_name of type NSt3__112basic_stringIcNS_11char_traitsIcEENS_9allocatorIcEEEEfound, won't be written to image file\n",
      "\n",
      "WARNING: In /Users/runner/work/1/sitk-build/ITK/Modules/IO/Meta/src/itkMetaImageIO.cxx, line 653\n",
      "MetaImageIO (0x7feb9f3ac800): Unsupported or empty metaData item qto_xyz of type N3itk6MatrixIfLj4ELj4EEEfound, won't be written to image file\n",
      "\n"
     ]
    },
    {
     "name": "stdout",
     "output_type": "stream",
     "text": [
      "Converted /Users/oni/Documents/Emily/AIMS_TBI_evaluation_May24/example-evaluation-method/test/input/scan_0799_Lesion_dilated.nii.gz to /Users/oni/Documents/Emily/AIMS_TBI_evaluation_May24/example-evaluation-method/test/input/scan_0799_Lesion_dilated.mha\n"
     ]
    },
    {
     "name": "stderr",
     "output_type": "stream",
     "text": [
      "WARNING: In /Users/runner/work/1/sitk-build/ITK/Modules/IO/Meta/src/itkMetaImageIO.cxx, line 653\n",
      "MetaImageIO (0x7feb6f815c00): Unsupported or empty metaData item aux_file of type NSt3__112basic_stringIcNS_11char_traitsIcEENS_9allocatorIcEEEEfound, won't be written to image file\n",
      "\n",
      "WARNING: In /Users/runner/work/1/sitk-build/ITK/Modules/IO/Meta/src/itkMetaImageIO.cxx, line 653\n",
      "MetaImageIO (0x7feb6f815c00): Unsupported or empty metaData item intent_name of type NSt3__112basic_stringIcNS_11char_traitsIcEENS_9allocatorIcEEEEfound, won't be written to image file\n",
      "\n",
      "WARNING: In /Users/runner/work/1/sitk-build/ITK/Modules/IO/Meta/src/itkMetaImageIO.cxx, line 653\n",
      "MetaImageIO (0x7feb6f815c00): Unsupported or empty metaData item qto_xyz of type N3itk6MatrixIfLj4ELj4EEEfound, won't be written to image file\n",
      "\n"
     ]
    },
    {
     "name": "stdout",
     "output_type": "stream",
     "text": [
      "Converted /Users/oni/Documents/Emily/AIMS_TBI_evaluation_May24/example-evaluation-method/test/input/scan_0773_Lesion_dilated.nii.gz to /Users/oni/Documents/Emily/AIMS_TBI_evaluation_May24/example-evaluation-method/test/input/scan_0773_Lesion_dilated.mha\n"
     ]
    },
    {
     "name": "stderr",
     "output_type": "stream",
     "text": [
      "WARNING: In /Users/runner/work/1/sitk-build/ITK/Modules/IO/Meta/src/itkMetaImageIO.cxx, line 653\n",
      "MetaImageIO (0x7feb6f815c00): Unsupported or empty metaData item aux_file of type NSt3__112basic_stringIcNS_11char_traitsIcEENS_9allocatorIcEEEEfound, won't be written to image file\n",
      "\n",
      "WARNING: In /Users/runner/work/1/sitk-build/ITK/Modules/IO/Meta/src/itkMetaImageIO.cxx, line 653\n",
      "MetaImageIO (0x7feb6f815c00): Unsupported or empty metaData item intent_name of type NSt3__112basic_stringIcNS_11char_traitsIcEENS_9allocatorIcEEEEfound, won't be written to image file\n",
      "\n",
      "WARNING: In /Users/runner/work/1/sitk-build/ITK/Modules/IO/Meta/src/itkMetaImageIO.cxx, line 653\n",
      "MetaImageIO (0x7feb6f815c00): Unsupported or empty metaData item qto_xyz of type N3itk6MatrixIfLj4ELj4EEEfound, won't be written to image file\n",
      "\n"
     ]
    },
    {
     "name": "stdout",
     "output_type": "stream",
     "text": [
      "Converted /Users/oni/Documents/Emily/AIMS_TBI_evaluation_May24/example-evaluation-method/test/input/scan_0984_Lesion_dilated.nii.gz to /Users/oni/Documents/Emily/AIMS_TBI_evaluation_May24/example-evaluation-method/test/input/scan_0984_Lesion_dilated.mha\n"
     ]
    },
    {
     "name": "stderr",
     "output_type": "stream",
     "text": [
      "WARNING: In /Users/runner/work/1/sitk-build/ITK/Modules/IO/Meta/src/itkMetaImageIO.cxx, line 653\n",
      "MetaImageIO (0x7feb9f39e800): Unsupported or empty metaData item aux_file of type NSt3__112basic_stringIcNS_11char_traitsIcEENS_9allocatorIcEEEEfound, won't be written to image file\n",
      "\n",
      "WARNING: In /Users/runner/work/1/sitk-build/ITK/Modules/IO/Meta/src/itkMetaImageIO.cxx, line 653\n",
      "MetaImageIO (0x7feb9f39e800): Unsupported or empty metaData item intent_name of type NSt3__112basic_stringIcNS_11char_traitsIcEENS_9allocatorIcEEEEfound, won't be written to image file\n",
      "\n",
      "WARNING: In /Users/runner/work/1/sitk-build/ITK/Modules/IO/Meta/src/itkMetaImageIO.cxx, line 653\n",
      "MetaImageIO (0x7feb9f39e800): Unsupported or empty metaData item qto_xyz of type N3itk6MatrixIfLj4ELj4EEEfound, won't be written to image file\n",
      "\n"
     ]
    },
    {
     "name": "stdout",
     "output_type": "stream",
     "text": [
      "Converted /Users/oni/Documents/Emily/AIMS_TBI_evaluation_May24/example-evaluation-method/test/input/scan_0371_Lesion_dilated.nii.gz to /Users/oni/Documents/Emily/AIMS_TBI_evaluation_May24/example-evaluation-method/test/input/scan_0371_Lesion_dilated.mha\n"
     ]
    },
    {
     "name": "stderr",
     "output_type": "stream",
     "text": [
      "WARNING: In /Users/runner/work/1/sitk-build/ITK/Modules/IO/Meta/src/itkMetaImageIO.cxx, line 653\n",
      "MetaImageIO (0x7feb6e010600): Unsupported or empty metaData item aux_file of type NSt3__112basic_stringIcNS_11char_traitsIcEENS_9allocatorIcEEEEfound, won't be written to image file\n",
      "\n",
      "WARNING: In /Users/runner/work/1/sitk-build/ITK/Modules/IO/Meta/src/itkMetaImageIO.cxx, line 653\n",
      "MetaImageIO (0x7feb6e010600): Unsupported or empty metaData item intent_name of type NSt3__112basic_stringIcNS_11char_traitsIcEENS_9allocatorIcEEEEfound, won't be written to image file\n",
      "\n",
      "WARNING: In /Users/runner/work/1/sitk-build/ITK/Modules/IO/Meta/src/itkMetaImageIO.cxx, line 653\n",
      "MetaImageIO (0x7feb6e010600): Unsupported or empty metaData item qto_xyz of type N3itk6MatrixIfLj4ELj4EEEfound, won't be written to image file\n",
      "\n"
     ]
    },
    {
     "name": "stdout",
     "output_type": "stream",
     "text": [
      "Converted /Users/oni/Documents/Emily/AIMS_TBI_evaluation_May24/example-evaluation-method/test/input/scan_0582_Lesion_dilated.nii.gz to /Users/oni/Documents/Emily/AIMS_TBI_evaluation_May24/example-evaluation-method/test/input/scan_0582_Lesion_dilated.mha\n",
      "Converted /Users/oni/Documents/Emily/AIMS_TBI_evaluation_May24/example-evaluation-method/test/input/scan_0475_Lesion_dilated.nii.gz to /Users/oni/Documents/Emily/AIMS_TBI_evaluation_May24/example-evaluation-method/test/input/scan_0475_Lesion_dilated.mha\n"
     ]
    },
    {
     "name": "stderr",
     "output_type": "stream",
     "text": [
      "WARNING: In /Users/runner/work/1/sitk-build/ITK/Modules/IO/Meta/src/itkMetaImageIO.cxx, line 653\n",
      "MetaImageIO (0x7feb6f815200): Unsupported or empty metaData item aux_file of type NSt3__112basic_stringIcNS_11char_traitsIcEENS_9allocatorIcEEEEfound, won't be written to image file\n",
      "\n",
      "WARNING: In /Users/runner/work/1/sitk-build/ITK/Modules/IO/Meta/src/itkMetaImageIO.cxx, line 653\n",
      "MetaImageIO (0x7feb6f815200): Unsupported or empty metaData item intent_name of type NSt3__112basic_stringIcNS_11char_traitsIcEENS_9allocatorIcEEEEfound, won't be written to image file\n",
      "\n",
      "WARNING: In /Users/runner/work/1/sitk-build/ITK/Modules/IO/Meta/src/itkMetaImageIO.cxx, line 653\n",
      "MetaImageIO (0x7feb6f815200): Unsupported or empty metaData item qto_xyz of type N3itk6MatrixIfLj4ELj4EEEfound, won't be written to image file\n",
      "\n",
      "WARNING: In /Users/runner/work/1/sitk-build/ITK/Modules/IO/Meta/src/itkMetaImageIO.cxx, line 653\n",
      "MetaImageIO (0x7feb6e015a00): Unsupported or empty metaData item aux_file of type NSt3__112basic_stringIcNS_11char_traitsIcEENS_9allocatorIcEEEEfound, won't be written to image file\n",
      "\n",
      "WARNING: In /Users/runner/work/1/sitk-build/ITK/Modules/IO/Meta/src/itkMetaImageIO.cxx, line 653\n",
      "MetaImageIO (0x7feb6e015a00): Unsupported or empty metaData item intent_name of type NSt3__112basic_stringIcNS_11char_traitsIcEENS_9allocatorIcEEEEfound, won't be written to image file\n",
      "\n",
      "WARNING: In /Users/runner/work/1/sitk-build/ITK/Modules/IO/Meta/src/itkMetaImageIO.cxx, line 653\n",
      "MetaImageIO (0x7feb6e015a00): Unsupported or empty metaData item qto_xyz of type N3itk6MatrixIfLj4ELj4EEEfound, won't be written to image file\n",
      "\n"
     ]
    },
    {
     "name": "stdout",
     "output_type": "stream",
     "text": [
      "Converted /Users/oni/Documents/Emily/AIMS_TBI_evaluation_May24/example-evaluation-method/test/input/scan_0727_Lesion_dilated.nii.gz to /Users/oni/Documents/Emily/AIMS_TBI_evaluation_May24/example-evaluation-method/test/input/scan_0727_Lesion_dilated.mha\n"
     ]
    },
    {
     "name": "stderr",
     "output_type": "stream",
     "text": [
      "WARNING: In /Users/runner/work/1/sitk-build/ITK/Modules/IO/Meta/src/itkMetaImageIO.cxx, line 653\n",
      "MetaImageIO (0x7feb6e015200): Unsupported or empty metaData item aux_file of type NSt3__112basic_stringIcNS_11char_traitsIcEENS_9allocatorIcEEEEfound, won't be written to image file\n",
      "\n",
      "WARNING: In /Users/runner/work/1/sitk-build/ITK/Modules/IO/Meta/src/itkMetaImageIO.cxx, line 653\n",
      "MetaImageIO (0x7feb6e015200): Unsupported or empty metaData item intent_name of type NSt3__112basic_stringIcNS_11char_traitsIcEENS_9allocatorIcEEEEfound, won't be written to image file\n",
      "\n",
      "WARNING: In /Users/runner/work/1/sitk-build/ITK/Modules/IO/Meta/src/itkMetaImageIO.cxx, line 653\n",
      "MetaImageIO (0x7feb6e015200): Unsupported or empty metaData item qto_xyz of type N3itk6MatrixIfLj4ELj4EEEfound, won't be written to image file\n",
      "\n"
     ]
    },
    {
     "name": "stdout",
     "output_type": "stream",
     "text": [
      "Converted /Users/oni/Documents/Emily/AIMS_TBI_evaluation_May24/example-evaluation-method/test/input/scan_0518_Lesion_dilated.nii.gz to /Users/oni/Documents/Emily/AIMS_TBI_evaluation_May24/example-evaluation-method/test/input/scan_0518_Lesion_dilated.mha\n"
     ]
    },
    {
     "name": "stderr",
     "output_type": "stream",
     "text": [
      "WARNING: In /Users/runner/work/1/sitk-build/ITK/Modules/IO/Meta/src/itkMetaImageIO.cxx, line 653\n",
      "MetaImageIO (0x7feb9f3ac800): Unsupported or empty metaData item aux_file of type NSt3__112basic_stringIcNS_11char_traitsIcEENS_9allocatorIcEEEEfound, won't be written to image file\n",
      "\n",
      "WARNING: In /Users/runner/work/1/sitk-build/ITK/Modules/IO/Meta/src/itkMetaImageIO.cxx, line 653\n",
      "MetaImageIO (0x7feb9f3ac800): Unsupported or empty metaData item intent_name of type NSt3__112basic_stringIcNS_11char_traitsIcEENS_9allocatorIcEEEEfound, won't be written to image file\n",
      "\n",
      "WARNING: In /Users/runner/work/1/sitk-build/ITK/Modules/IO/Meta/src/itkMetaImageIO.cxx, line 653\n",
      "MetaImageIO (0x7feb9f3ac800): Unsupported or empty metaData item qto_xyz of type N3itk6MatrixIfLj4ELj4EEEfound, won't be written to image file\n",
      "\n"
     ]
    },
    {
     "name": "stdout",
     "output_type": "stream",
     "text": [
      "Converted /Users/oni/Documents/Emily/AIMS_TBI_evaluation_May24/example-evaluation-method/test/input/scan_0061_Lesion_dilated.nii.gz to /Users/oni/Documents/Emily/AIMS_TBI_evaluation_May24/example-evaluation-method/test/input/scan_0061_Lesion_dilated.mha\n"
     ]
    },
    {
     "name": "stderr",
     "output_type": "stream",
     "text": [
      "WARNING: In /Users/runner/work/1/sitk-build/ITK/Modules/IO/Meta/src/itkMetaImageIO.cxx, line 653\n",
      "MetaImageIO (0x7feb9f3ac800): Unsupported or empty metaData item aux_file of type NSt3__112basic_stringIcNS_11char_traitsIcEENS_9allocatorIcEEEEfound, won't be written to image file\n",
      "\n",
      "WARNING: In /Users/runner/work/1/sitk-build/ITK/Modules/IO/Meta/src/itkMetaImageIO.cxx, line 653\n",
      "MetaImageIO (0x7feb9f3ac800): Unsupported or empty metaData item intent_name of type NSt3__112basic_stringIcNS_11char_traitsIcEENS_9allocatorIcEEEEfound, won't be written to image file\n",
      "\n",
      "WARNING: In /Users/runner/work/1/sitk-build/ITK/Modules/IO/Meta/src/itkMetaImageIO.cxx, line 653\n",
      "MetaImageIO (0x7feb9f3ac800): Unsupported or empty metaData item qto_xyz of type N3itk6MatrixIfLj4ELj4EEEfound, won't be written to image file\n",
      "\n"
     ]
    },
    {
     "name": "stdout",
     "output_type": "stream",
     "text": [
      "Converted /Users/oni/Documents/Emily/AIMS_TBI_evaluation_May24/example-evaluation-method/test/input/scan_0632_Lesion_dilated.nii.gz to /Users/oni/Documents/Emily/AIMS_TBI_evaluation_May24/example-evaluation-method/test/input/scan_0632_Lesion_dilated.mha\n"
     ]
    },
    {
     "name": "stderr",
     "output_type": "stream",
     "text": [
      "WARNING: In /Users/runner/work/1/sitk-build/ITK/Modules/IO/Meta/src/itkMetaImageIO.cxx, line 653\n",
      "MetaImageIO (0x7feb6f815200): Unsupported or empty metaData item aux_file of type NSt3__112basic_stringIcNS_11char_traitsIcEENS_9allocatorIcEEEEfound, won't be written to image file\n",
      "\n",
      "WARNING: In /Users/runner/work/1/sitk-build/ITK/Modules/IO/Meta/src/itkMetaImageIO.cxx, line 653\n",
      "MetaImageIO (0x7feb6f815200): Unsupported or empty metaData item intent_name of type NSt3__112basic_stringIcNS_11char_traitsIcEENS_9allocatorIcEEEEfound, won't be written to image file\n",
      "\n",
      "WARNING: In /Users/runner/work/1/sitk-build/ITK/Modules/IO/Meta/src/itkMetaImageIO.cxx, line 653\n",
      "MetaImageIO (0x7feb6f815200): Unsupported or empty metaData item qto_xyz of type N3itk6MatrixIfLj4ELj4EEEfound, won't be written to image file\n",
      "\n"
     ]
    },
    {
     "name": "stdout",
     "output_type": "stream",
     "text": [
      "Converted /Users/oni/Documents/Emily/AIMS_TBI_evaluation_May24/example-evaluation-method/test/input/scan_0902_Lesion_dilated.nii.gz to /Users/oni/Documents/Emily/AIMS_TBI_evaluation_May24/example-evaluation-method/test/input/scan_0902_Lesion_dilated.mha\n"
     ]
    },
    {
     "name": "stderr",
     "output_type": "stream",
     "text": [
      "WARNING: In /Users/runner/work/1/sitk-build/ITK/Modules/IO/Meta/src/itkMetaImageIO.cxx, line 653\n",
      "MetaImageIO (0x7feb9f3ac800): Unsupported or empty metaData item aux_file of type NSt3__112basic_stringIcNS_11char_traitsIcEENS_9allocatorIcEEEEfound, won't be written to image file\n",
      "\n",
      "WARNING: In /Users/runner/work/1/sitk-build/ITK/Modules/IO/Meta/src/itkMetaImageIO.cxx, line 653\n",
      "MetaImageIO (0x7feb9f3ac800): Unsupported or empty metaData item intent_name of type NSt3__112basic_stringIcNS_11char_traitsIcEENS_9allocatorIcEEEEfound, won't be written to image file\n",
      "\n",
      "WARNING: In /Users/runner/work/1/sitk-build/ITK/Modules/IO/Meta/src/itkMetaImageIO.cxx, line 653\n",
      "MetaImageIO (0x7feb9f3ac800): Unsupported or empty metaData item qto_xyz of type N3itk6MatrixIfLj4ELj4EEEfound, won't be written to image file\n",
      "\n"
     ]
    },
    {
     "name": "stdout",
     "output_type": "stream",
     "text": [
      "Converted /Users/oni/Documents/Emily/AIMS_TBI_evaluation_May24/example-evaluation-method/test/input/scan_0512_Lesion_dilated.nii.gz to /Users/oni/Documents/Emily/AIMS_TBI_evaluation_May24/example-evaluation-method/test/input/scan_0512_Lesion_dilated.mha\n"
     ]
    },
    {
     "name": "stderr",
     "output_type": "stream",
     "text": [
      "WARNING: In /Users/runner/work/1/sitk-build/ITK/Modules/IO/Meta/src/itkMetaImageIO.cxx, line 653\n",
      "MetaImageIO (0x7feb6e015000): Unsupported or empty metaData item aux_file of type NSt3__112basic_stringIcNS_11char_traitsIcEENS_9allocatorIcEEEEfound, won't be written to image file\n",
      "\n",
      "WARNING: In /Users/runner/work/1/sitk-build/ITK/Modules/IO/Meta/src/itkMetaImageIO.cxx, line 653\n",
      "MetaImageIO (0x7feb6e015000): Unsupported or empty metaData item intent_name of type NSt3__112basic_stringIcNS_11char_traitsIcEENS_9allocatorIcEEEEfound, won't be written to image file\n",
      "\n",
      "WARNING: In /Users/runner/work/1/sitk-build/ITK/Modules/IO/Meta/src/itkMetaImageIO.cxx, line 653\n",
      "MetaImageIO (0x7feb6e015000): Unsupported or empty metaData item qto_xyz of type N3itk6MatrixIfLj4ELj4EEEfound, won't be written to image file\n",
      "\n"
     ]
    },
    {
     "name": "stdout",
     "output_type": "stream",
     "text": [
      "Converted /Users/oni/Documents/Emily/AIMS_TBI_evaluation_May24/example-evaluation-method/test/input/scan_0110_Lesion_dilated.nii.gz to /Users/oni/Documents/Emily/AIMS_TBI_evaluation_May24/example-evaluation-method/test/input/scan_0110_Lesion_dilated.mha\n"
     ]
    },
    {
     "name": "stderr",
     "output_type": "stream",
     "text": [
      "WARNING: In /Users/runner/work/1/sitk-build/ITK/Modules/IO/Meta/src/itkMetaImageIO.cxx, line 653\n",
      "MetaImageIO (0x7feb9d8baa00): Unsupported or empty metaData item aux_file of type NSt3__112basic_stringIcNS_11char_traitsIcEENS_9allocatorIcEEEEfound, won't be written to image file\n",
      "\n",
      "WARNING: In /Users/runner/work/1/sitk-build/ITK/Modules/IO/Meta/src/itkMetaImageIO.cxx, line 653\n",
      "MetaImageIO (0x7feb9d8baa00): Unsupported or empty metaData item intent_name of type NSt3__112basic_stringIcNS_11char_traitsIcEENS_9allocatorIcEEEEfound, won't be written to image file\n",
      "\n",
      "WARNING: In /Users/runner/work/1/sitk-build/ITK/Modules/IO/Meta/src/itkMetaImageIO.cxx, line 653\n",
      "MetaImageIO (0x7feb9d8baa00): Unsupported or empty metaData item qto_xyz of type N3itk6MatrixIfLj4ELj4EEEfound, won't be written to image file\n",
      "\n"
     ]
    },
    {
     "name": "stdout",
     "output_type": "stream",
     "text": [
      "Converted /Users/oni/Documents/Emily/AIMS_TBI_evaluation_May24/example-evaluation-method/test/input/scan_1031_Lesion_dilated.nii.gz to /Users/oni/Documents/Emily/AIMS_TBI_evaluation_May24/example-evaluation-method/test/input/scan_1031_Lesion_dilated.mha\n",
      "Converted /Users/oni/Documents/Emily/AIMS_TBI_evaluation_May24/example-evaluation-method/test/input/scan_1087_Lesion_dilated.nii.gz to /Users/oni/Documents/Emily/AIMS_TBI_evaluation_May24/example-evaluation-method/test/input/scan_1087_Lesion_dilated.mha\n"
     ]
    },
    {
     "name": "stderr",
     "output_type": "stream",
     "text": [
      "WARNING: In /Users/runner/work/1/sitk-build/ITK/Modules/IO/Meta/src/itkMetaImageIO.cxx, line 653\n",
      "MetaImageIO (0x7feb6e015e00): Unsupported or empty metaData item aux_file of type NSt3__112basic_stringIcNS_11char_traitsIcEENS_9allocatorIcEEEEfound, won't be written to image file\n",
      "\n",
      "WARNING: In /Users/runner/work/1/sitk-build/ITK/Modules/IO/Meta/src/itkMetaImageIO.cxx, line 653\n",
      "MetaImageIO (0x7feb6e015e00): Unsupported or empty metaData item intent_name of type NSt3__112basic_stringIcNS_11char_traitsIcEENS_9allocatorIcEEEEfound, won't be written to image file\n",
      "\n",
      "WARNING: In /Users/runner/work/1/sitk-build/ITK/Modules/IO/Meta/src/itkMetaImageIO.cxx, line 653\n",
      "MetaImageIO (0x7feb6e015e00): Unsupported or empty metaData item qto_xyz of type N3itk6MatrixIfLj4ELj4EEEfound, won't be written to image file\n",
      "\n",
      "WARNING: In /Users/runner/work/1/sitk-build/ITK/Modules/IO/Meta/src/itkMetaImageIO.cxx, line 653\n",
      "MetaImageIO (0x7feb9f3ac800): Unsupported or empty metaData item aux_file of type NSt3__112basic_stringIcNS_11char_traitsIcEENS_9allocatorIcEEEEfound, won't be written to image file\n",
      "\n",
      "WARNING: In /Users/runner/work/1/sitk-build/ITK/Modules/IO/Meta/src/itkMetaImageIO.cxx, line 653\n",
      "MetaImageIO (0x7feb9f3ac800): Unsupported or empty metaData item intent_name of type NSt3__112basic_stringIcNS_11char_traitsIcEENS_9allocatorIcEEEEfound, won't be written to image file\n",
      "\n",
      "WARNING: In /Users/runner/work/1/sitk-build/ITK/Modules/IO/Meta/src/itkMetaImageIO.cxx, line 653\n",
      "MetaImageIO (0x7feb9f3ac800): Unsupported or empty metaData item qto_xyz of type N3itk6MatrixIfLj4ELj4EEEfound, won't be written to image file\n",
      "\n"
     ]
    },
    {
     "name": "stdout",
     "output_type": "stream",
     "text": [
      "Converted /Users/oni/Documents/Emily/AIMS_TBI_evaluation_May24/example-evaluation-method/test/input/scan_0614_Lesion_dilated.nii.gz to /Users/oni/Documents/Emily/AIMS_TBI_evaluation_May24/example-evaluation-method/test/input/scan_0614_Lesion_dilated.mha\n",
      "Converted /Users/oni/Documents/Emily/AIMS_TBI_evaluation_May24/example-evaluation-method/test/input/scan_0938_Lesion_dilated.nii.gz to /Users/oni/Documents/Emily/AIMS_TBI_evaluation_May24/example-evaluation-method/test/input/scan_0938_Lesion_dilated.mha\n"
     ]
    },
    {
     "name": "stderr",
     "output_type": "stream",
     "text": [
      "WARNING: In /Users/runner/work/1/sitk-build/ITK/Modules/IO/Meta/src/itkMetaImageIO.cxx, line 653\n",
      "MetaImageIO (0x7feb9f3ac800): Unsupported or empty metaData item aux_file of type NSt3__112basic_stringIcNS_11char_traitsIcEENS_9allocatorIcEEEEfound, won't be written to image file\n",
      "\n",
      "WARNING: In /Users/runner/work/1/sitk-build/ITK/Modules/IO/Meta/src/itkMetaImageIO.cxx, line 653\n",
      "MetaImageIO (0x7feb9f3ac800): Unsupported or empty metaData item intent_name of type NSt3__112basic_stringIcNS_11char_traitsIcEENS_9allocatorIcEEEEfound, won't be written to image file\n",
      "\n",
      "WARNING: In /Users/runner/work/1/sitk-build/ITK/Modules/IO/Meta/src/itkMetaImageIO.cxx, line 653\n",
      "MetaImageIO (0x7feb9f3ac800): Unsupported or empty metaData item qto_xyz of type N3itk6MatrixIfLj4ELj4EEEfound, won't be written to image file\n",
      "\n",
      "WARNING: In /Users/runner/work/1/sitk-build/ITK/Modules/IO/Meta/src/itkMetaImageIO.cxx, line 653\n",
      "MetaImageIO (0x7feb6e014e00): Unsupported or empty metaData item aux_file of type NSt3__112basic_stringIcNS_11char_traitsIcEENS_9allocatorIcEEEEfound, won't be written to image file\n",
      "\n",
      "WARNING: In /Users/runner/work/1/sitk-build/ITK/Modules/IO/Meta/src/itkMetaImageIO.cxx, line 653\n",
      "MetaImageIO (0x7feb6e014e00): Unsupported or empty metaData item intent_name of type NSt3__112basic_stringIcNS_11char_traitsIcEENS_9allocatorIcEEEEfound, won't be written to image file\n",
      "\n",
      "WARNING: In /Users/runner/work/1/sitk-build/ITK/Modules/IO/Meta/src/itkMetaImageIO.cxx, line 653\n",
      "MetaImageIO (0x7feb6e014e00): Unsupported or empty metaData item qto_xyz of type N3itk6MatrixIfLj4ELj4EEEfound, won't be written to image file\n",
      "\n",
      "WARNING: In /Users/runner/work/1/sitk-build/ITK/Modules/IO/Meta/src/itkMetaImageIO.cxx, line 653\n",
      "MetaImageIO (0x7feb9f3ac800): Unsupported or empty metaData item aux_file of type NSt3__112basic_stringIcNS_11char_traitsIcEENS_9allocatorIcEEEEfound, won't be written to image file\n",
      "\n",
      "WARNING: In /Users/runner/work/1/sitk-build/ITK/Modules/IO/Meta/src/itkMetaImageIO.cxx, line 653\n",
      "MetaImageIO (0x7feb9f3ac800): Unsupported or empty metaData item intent_name of type NSt3__112basic_stringIcNS_11char_traitsIcEENS_9allocatorIcEEEEfound, won't be written to image file\n",
      "\n",
      "WARNING: In /Users/runner/work/1/sitk-build/ITK/Modules/IO/Meta/src/itkMetaImageIO.cxx, line 653\n",
      "MetaImageIO (0x7feb9f3ac800): Unsupported or empty metaData item qto_xyz of type N3itk6MatrixIfLj4ELj4EEEfound, won't be written to image file\n",
      "\n"
     ]
    },
    {
     "name": "stdout",
     "output_type": "stream",
     "text": [
      "Converted /Users/oni/Documents/Emily/AIMS_TBI_evaluation_May24/example-evaluation-method/test/input/scan_0331_Lesion_dilated.nii.gz to /Users/oni/Documents/Emily/AIMS_TBI_evaluation_May24/example-evaluation-method/test/input/scan_0331_Lesion_dilated.mha\n",
      "Converted /Users/oni/Documents/Emily/AIMS_TBI_evaluation_May24/example-evaluation-method/test/input/scan_0885_Lesion_dilated.nii.gz to /Users/oni/Documents/Emily/AIMS_TBI_evaluation_May24/example-evaluation-method/test/input/scan_0885_Lesion_dilated.mha\n"
     ]
    },
    {
     "name": "stderr",
     "output_type": "stream",
     "text": [
      "WARNING: In /Users/runner/work/1/sitk-build/ITK/Modules/IO/Meta/src/itkMetaImageIO.cxx, line 653\n",
      "MetaImageIO (0x7feb9d8bb200): Unsupported or empty metaData item aux_file of type NSt3__112basic_stringIcNS_11char_traitsIcEENS_9allocatorIcEEEEfound, won't be written to image file\n",
      "\n",
      "WARNING: In /Users/runner/work/1/sitk-build/ITK/Modules/IO/Meta/src/itkMetaImageIO.cxx, line 653\n",
      "MetaImageIO (0x7feb9d8bb200): Unsupported or empty metaData item intent_name of type NSt3__112basic_stringIcNS_11char_traitsIcEENS_9allocatorIcEEEEfound, won't be written to image file\n",
      "\n",
      "WARNING: In /Users/runner/work/1/sitk-build/ITK/Modules/IO/Meta/src/itkMetaImageIO.cxx, line 653\n",
      "MetaImageIO (0x7feb9d8bb200): Unsupported or empty metaData item qto_xyz of type N3itk6MatrixIfLj4ELj4EEEfound, won't be written to image file\n",
      "\n",
      "WARNING: In /Users/runner/work/1/sitk-build/ITK/Modules/IO/Meta/src/itkMetaImageIO.cxx, line 653\n",
      "MetaImageIO (0x7feb6e014e00): Unsupported or empty metaData item aux_file of type NSt3__112basic_stringIcNS_11char_traitsIcEENS_9allocatorIcEEEEfound, won't be written to image file\n",
      "\n",
      "WARNING: In /Users/runner/work/1/sitk-build/ITK/Modules/IO/Meta/src/itkMetaImageIO.cxx, line 653\n",
      "MetaImageIO (0x7feb6e014e00): Unsupported or empty metaData item intent_name of type NSt3__112basic_stringIcNS_11char_traitsIcEENS_9allocatorIcEEEEfound, won't be written to image file\n",
      "\n",
      "WARNING: In /Users/runner/work/1/sitk-build/ITK/Modules/IO/Meta/src/itkMetaImageIO.cxx, line 653\n",
      "MetaImageIO (0x7feb6e014e00): Unsupported or empty metaData item qto_xyz of type N3itk6MatrixIfLj4ELj4EEEfound, won't be written to image file\n",
      "\n"
     ]
    },
    {
     "name": "stdout",
     "output_type": "stream",
     "text": [
      "Converted /Users/oni/Documents/Emily/AIMS_TBI_evaluation_May24/example-evaluation-method/test/input/scan_0558_Lesion_dilated.nii.gz to /Users/oni/Documents/Emily/AIMS_TBI_evaluation_May24/example-evaluation-method/test/input/scan_0558_Lesion_dilated.mha\n",
      "Converted /Users/oni/Documents/Emily/AIMS_TBI_evaluation_May24/example-evaluation-method/test/input/scan_0435_Lesion_dilated.nii.gz to /Users/oni/Documents/Emily/AIMS_TBI_evaluation_May24/example-evaluation-method/test/input/scan_0435_Lesion_dilated.mha\n"
     ]
    },
    {
     "name": "stderr",
     "output_type": "stream",
     "text": [
      "WARNING: In /Users/runner/work/1/sitk-build/ITK/Modules/IO/Meta/src/itkMetaImageIO.cxx, line 653\n",
      "MetaImageIO (0x7feb9d8bb600): Unsupported or empty metaData item aux_file of type NSt3__112basic_stringIcNS_11char_traitsIcEENS_9allocatorIcEEEEfound, won't be written to image file\n",
      "\n",
      "WARNING: In /Users/runner/work/1/sitk-build/ITK/Modules/IO/Meta/src/itkMetaImageIO.cxx, line 653\n",
      "MetaImageIO (0x7feb9d8bb600): Unsupported or empty metaData item intent_name of type NSt3__112basic_stringIcNS_11char_traitsIcEENS_9allocatorIcEEEEfound, won't be written to image file\n",
      "\n",
      "WARNING: In /Users/runner/work/1/sitk-build/ITK/Modules/IO/Meta/src/itkMetaImageIO.cxx, line 653\n",
      "MetaImageIO (0x7feb9d8bb600): Unsupported or empty metaData item qto_xyz of type N3itk6MatrixIfLj4ELj4EEEfound, won't be written to image file\n",
      "\n"
     ]
    },
    {
     "name": "stdout",
     "output_type": "stream",
     "text": [
      "Converted /Users/oni/Documents/Emily/AIMS_TBI_evaluation_May24/example-evaluation-method/test/input/scan_0674_Lesion_dilated.nii.gz to /Users/oni/Documents/Emily/AIMS_TBI_evaluation_May24/example-evaluation-method/test/input/scan_0674_Lesion_dilated.mha\n"
     ]
    },
    {
     "name": "stderr",
     "output_type": "stream",
     "text": [
      "WARNING: In /Users/runner/work/1/sitk-build/ITK/Modules/IO/Meta/src/itkMetaImageIO.cxx, line 653\n",
      "MetaImageIO (0x7feb6f80e200): Unsupported or empty metaData item aux_file of type NSt3__112basic_stringIcNS_11char_traitsIcEENS_9allocatorIcEEEEfound, won't be written to image file\n",
      "\n",
      "WARNING: In /Users/runner/work/1/sitk-build/ITK/Modules/IO/Meta/src/itkMetaImageIO.cxx, line 653\n",
      "MetaImageIO (0x7feb6f80e200): Unsupported or empty metaData item intent_name of type NSt3__112basic_stringIcNS_11char_traitsIcEENS_9allocatorIcEEEEfound, won't be written to image file\n",
      "\n",
      "WARNING: In /Users/runner/work/1/sitk-build/ITK/Modules/IO/Meta/src/itkMetaImageIO.cxx, line 653\n",
      "MetaImageIO (0x7feb6f80e200): Unsupported or empty metaData item qto_xyz of type N3itk6MatrixIfLj4ELj4EEEfound, won't be written to image file\n",
      "\n"
     ]
    },
    {
     "name": "stdout",
     "output_type": "stream",
     "text": [
      "Converted /Users/oni/Documents/Emily/AIMS_TBI_evaluation_May24/example-evaluation-method/test/input/scan_0049_Lesion_dilated.nii.gz to /Users/oni/Documents/Emily/AIMS_TBI_evaluation_May24/example-evaluation-method/test/input/scan_0049_Lesion_dilated.mha\n"
     ]
    },
    {
     "name": "stderr",
     "output_type": "stream",
     "text": [
      "WARNING: In /Users/runner/work/1/sitk-build/ITK/Modules/IO/Meta/src/itkMetaImageIO.cxx, line 653\n",
      "MetaImageIO (0x7feb6e015200): Unsupported or empty metaData item aux_file of type NSt3__112basic_stringIcNS_11char_traitsIcEENS_9allocatorIcEEEEfound, won't be written to image file\n",
      "\n",
      "WARNING: In /Users/runner/work/1/sitk-build/ITK/Modules/IO/Meta/src/itkMetaImageIO.cxx, line 653\n",
      "MetaImageIO (0x7feb6e015200): Unsupported or empty metaData item intent_name of type NSt3__112basic_stringIcNS_11char_traitsIcEENS_9allocatorIcEEEEfound, won't be written to image file\n",
      "\n",
      "WARNING: In /Users/runner/work/1/sitk-build/ITK/Modules/IO/Meta/src/itkMetaImageIO.cxx, line 653\n",
      "MetaImageIO (0x7feb6e015200): Unsupported or empty metaData item qto_xyz of type N3itk6MatrixIfLj4ELj4EEEfound, won't be written to image file\n",
      "\n"
     ]
    },
    {
     "name": "stdout",
     "output_type": "stream",
     "text": [
      "Converted /Users/oni/Documents/Emily/AIMS_TBI_evaluation_May24/example-evaluation-method/test/input/scan_0073_Lesion_dilated.nii.gz to /Users/oni/Documents/Emily/AIMS_TBI_evaluation_May24/example-evaluation-method/test/input/scan_0073_Lesion_dilated.mha\n",
      "Converted /Users/oni/Documents/Emily/AIMS_TBI_evaluation_May24/example-evaluation-method/test/input/scan_0294_Lesion_dilated.nii.gz to /Users/oni/Documents/Emily/AIMS_TBI_evaluation_May24/example-evaluation-method/test/input/scan_0294_Lesion_dilated.mha\n"
     ]
    },
    {
     "name": "stderr",
     "output_type": "stream",
     "text": [
      "WARNING: In /Users/runner/work/1/sitk-build/ITK/Modules/IO/Meta/src/itkMetaImageIO.cxx, line 653\n",
      "MetaImageIO (0x7feb9d8bb200): Unsupported or empty metaData item aux_file of type NSt3__112basic_stringIcNS_11char_traitsIcEENS_9allocatorIcEEEEfound, won't be written to image file\n",
      "\n",
      "WARNING: In /Users/runner/work/1/sitk-build/ITK/Modules/IO/Meta/src/itkMetaImageIO.cxx, line 653\n",
      "MetaImageIO (0x7feb9d8bb200): Unsupported or empty metaData item intent_name of type NSt3__112basic_stringIcNS_11char_traitsIcEENS_9allocatorIcEEEEfound, won't be written to image file\n",
      "\n",
      "WARNING: In /Users/runner/work/1/sitk-build/ITK/Modules/IO/Meta/src/itkMetaImageIO.cxx, line 653\n",
      "MetaImageIO (0x7feb9d8bb200): Unsupported or empty metaData item qto_xyz of type N3itk6MatrixIfLj4ELj4EEEfound, won't be written to image file\n",
      "\n",
      "WARNING: In /Users/runner/work/1/sitk-build/ITK/Modules/IO/Meta/src/itkMetaImageIO.cxx, line 653\n",
      "MetaImageIO (0x7feb9d8bb200): Unsupported or empty metaData item aux_file of type NSt3__112basic_stringIcNS_11char_traitsIcEENS_9allocatorIcEEEEfound, won't be written to image file\n",
      "\n",
      "WARNING: In /Users/runner/work/1/sitk-build/ITK/Modules/IO/Meta/src/itkMetaImageIO.cxx, line 653\n",
      "MetaImageIO (0x7feb9d8bb200): Unsupported or empty metaData item intent_name of type NSt3__112basic_stringIcNS_11char_traitsIcEENS_9allocatorIcEEEEfound, won't be written to image file\n",
      "\n",
      "WARNING: In /Users/runner/work/1/sitk-build/ITK/Modules/IO/Meta/src/itkMetaImageIO.cxx, line 653\n",
      "MetaImageIO (0x7feb9d8bb200): Unsupported or empty metaData item qto_xyz of type N3itk6MatrixIfLj4ELj4EEEfound, won't be written to image file\n",
      "\n"
     ]
    },
    {
     "name": "stdout",
     "output_type": "stream",
     "text": [
      "Converted /Users/oni/Documents/Emily/AIMS_TBI_evaluation_May24/example-evaluation-method/test/input/scan_0455_Lesion_dilated.nii.gz to /Users/oni/Documents/Emily/AIMS_TBI_evaluation_May24/example-evaluation-method/test/input/scan_0455_Lesion_dilated.mha\n",
      "Converted /Users/oni/Documents/Emily/AIMS_TBI_evaluation_May24/example-evaluation-method/test/input/scan_0646_Lesion_dilated.nii.gz to /Users/oni/Documents/Emily/AIMS_TBI_evaluation_May24/example-evaluation-method/test/input/scan_0646_Lesion_dilated.mha\n"
     ]
    },
    {
     "name": "stderr",
     "output_type": "stream",
     "text": [
      "WARNING: In /Users/runner/work/1/sitk-build/ITK/Modules/IO/Meta/src/itkMetaImageIO.cxx, line 653\n",
      "MetaImageIO (0x7feb9f3ac800): Unsupported or empty metaData item aux_file of type NSt3__112basic_stringIcNS_11char_traitsIcEENS_9allocatorIcEEEEfound, won't be written to image file\n",
      "\n",
      "WARNING: In /Users/runner/work/1/sitk-build/ITK/Modules/IO/Meta/src/itkMetaImageIO.cxx, line 653\n",
      "MetaImageIO (0x7feb9f3ac800): Unsupported or empty metaData item intent_name of type NSt3__112basic_stringIcNS_11char_traitsIcEENS_9allocatorIcEEEEfound, won't be written to image file\n",
      "\n",
      "WARNING: In /Users/runner/work/1/sitk-build/ITK/Modules/IO/Meta/src/itkMetaImageIO.cxx, line 653\n",
      "MetaImageIO (0x7feb9f3ac800): Unsupported or empty metaData item qto_xyz of type N3itk6MatrixIfLj4ELj4EEEfound, won't be written to image file\n",
      "\n",
      "WARNING: In /Users/runner/work/1/sitk-build/ITK/Modules/IO/Meta/src/itkMetaImageIO.cxx, line 653\n",
      "MetaImageIO (0x7feb9f3ac800): Unsupported or empty metaData item aux_file of type NSt3__112basic_stringIcNS_11char_traitsIcEENS_9allocatorIcEEEEfound, won't be written to image file\n",
      "\n",
      "WARNING: In /Users/runner/work/1/sitk-build/ITK/Modules/IO/Meta/src/itkMetaImageIO.cxx, line 653\n",
      "MetaImageIO (0x7feb9f3ac800): Unsupported or empty metaData item intent_name of type NSt3__112basic_stringIcNS_11char_traitsIcEENS_9allocatorIcEEEEfound, won't be written to image file\n",
      "\n",
      "WARNING: In /Users/runner/work/1/sitk-build/ITK/Modules/IO/Meta/src/itkMetaImageIO.cxx, line 653\n",
      "MetaImageIO (0x7feb9f3ac800): Unsupported or empty metaData item qto_xyz of type N3itk6MatrixIfLj4ELj4EEEfound, won't be written to image file\n",
      "\n"
     ]
    },
    {
     "name": "stdout",
     "output_type": "stream",
     "text": [
      "Converted /Users/oni/Documents/Emily/AIMS_TBI_evaluation_May24/example-evaluation-method/test/input/scan_0395_Lesion_dilated.nii.gz to /Users/oni/Documents/Emily/AIMS_TBI_evaluation_May24/example-evaluation-method/test/input/scan_0395_Lesion_dilated.mha\n",
      "Converted /Users/oni/Documents/Emily/AIMS_TBI_evaluation_May24/example-evaluation-method/test/input/scan_1069_Lesion_dilated.nii.gz to /Users/oni/Documents/Emily/AIMS_TBI_evaluation_May24/example-evaluation-method/test/input/scan_1069_Lesion_dilated.mha\n"
     ]
    },
    {
     "name": "stderr",
     "output_type": "stream",
     "text": [
      "WARNING: In /Users/runner/work/1/sitk-build/ITK/Modules/IO/Meta/src/itkMetaImageIO.cxx, line 653\n",
      "MetaImageIO (0x7feb9f3ac800): Unsupported or empty metaData item aux_file of type NSt3__112basic_stringIcNS_11char_traitsIcEENS_9allocatorIcEEEEfound, won't be written to image file\n",
      "\n",
      "WARNING: In /Users/runner/work/1/sitk-build/ITK/Modules/IO/Meta/src/itkMetaImageIO.cxx, line 653\n",
      "MetaImageIO (0x7feb9f3ac800): Unsupported or empty metaData item intent_name of type NSt3__112basic_stringIcNS_11char_traitsIcEENS_9allocatorIcEEEEfound, won't be written to image file\n",
      "\n",
      "WARNING: In /Users/runner/work/1/sitk-build/ITK/Modules/IO/Meta/src/itkMetaImageIO.cxx, line 653\n",
      "MetaImageIO (0x7feb9f3ac800): Unsupported or empty metaData item qto_xyz of type N3itk6MatrixIfLj4ELj4EEEfound, won't be written to image file\n",
      "\n",
      "WARNING: In /Users/runner/work/1/sitk-build/ITK/Modules/IO/Meta/src/itkMetaImageIO.cxx, line 653\n",
      "MetaImageIO (0x7feb6f815200): Unsupported or empty metaData item aux_file of type NSt3__112basic_stringIcNS_11char_traitsIcEENS_9allocatorIcEEEEfound, won't be written to image file\n",
      "\n",
      "WARNING: In /Users/runner/work/1/sitk-build/ITK/Modules/IO/Meta/src/itkMetaImageIO.cxx, line 653\n",
      "MetaImageIO (0x7feb6f815200): Unsupported or empty metaData item intent_name of type NSt3__112basic_stringIcNS_11char_traitsIcEENS_9allocatorIcEEEEfound, won't be written to image file\n",
      "\n",
      "WARNING: In /Users/runner/work/1/sitk-build/ITK/Modules/IO/Meta/src/itkMetaImageIO.cxx, line 653\n",
      "MetaImageIO (0x7feb6f815200): Unsupported or empty metaData item qto_xyz of type N3itk6MatrixIfLj4ELj4EEEfound, won't be written to image file\n",
      "\n"
     ]
    },
    {
     "name": "stdout",
     "output_type": "stream",
     "text": [
      "Converted /Users/oni/Documents/Emily/AIMS_TBI_evaluation_May24/example-evaluation-method/test/input/scan_0837_Lesion_dilated.nii.gz to /Users/oni/Documents/Emily/AIMS_TBI_evaluation_May24/example-evaluation-method/test/input/scan_0837_Lesion_dilated.mha\n",
      "Converted /Users/oni/Documents/Emily/AIMS_TBI_evaluation_May24/example-evaluation-method/test/input/scan_0775_Lesion_dilated.nii.gz to /Users/oni/Documents/Emily/AIMS_TBI_evaluation_May24/example-evaluation-method/test/input/scan_0775_Lesion_dilated.mha\n"
     ]
    },
    {
     "name": "stderr",
     "output_type": "stream",
     "text": [
      "WARNING: In /Users/runner/work/1/sitk-build/ITK/Modules/IO/Meta/src/itkMetaImageIO.cxx, line 653\n",
      "MetaImageIO (0x7feb6e015200): Unsupported or empty metaData item aux_file of type NSt3__112basic_stringIcNS_11char_traitsIcEENS_9allocatorIcEEEEfound, won't be written to image file\n",
      "\n",
      "WARNING: In /Users/runner/work/1/sitk-build/ITK/Modules/IO/Meta/src/itkMetaImageIO.cxx, line 653\n",
      "MetaImageIO (0x7feb6e015200): Unsupported or empty metaData item intent_name of type NSt3__112basic_stringIcNS_11char_traitsIcEENS_9allocatorIcEEEEfound, won't be written to image file\n",
      "\n",
      "WARNING: In /Users/runner/work/1/sitk-build/ITK/Modules/IO/Meta/src/itkMetaImageIO.cxx, line 653\n",
      "MetaImageIO (0x7feb6e015200): Unsupported or empty metaData item qto_xyz of type N3itk6MatrixIfLj4ELj4EEEfound, won't be written to image file\n",
      "\n",
      "WARNING: In /Users/runner/work/1/sitk-build/ITK/Modules/IO/Meta/src/itkMetaImageIO.cxx, line 653\n",
      "MetaImageIO (0x7feb9f3ac600): Unsupported or empty metaData item aux_file of type NSt3__112basic_stringIcNS_11char_traitsIcEENS_9allocatorIcEEEEfound, won't be written to image file\n",
      "\n",
      "WARNING: In /Users/runner/work/1/sitk-build/ITK/Modules/IO/Meta/src/itkMetaImageIO.cxx, line 653\n",
      "MetaImageIO (0x7feb9f3ac600): Unsupported or empty metaData item intent_name of type NSt3__112basic_stringIcNS_11char_traitsIcEENS_9allocatorIcEEEEfound, won't be written to image file\n",
      "\n",
      "WARNING: In /Users/runner/work/1/sitk-build/ITK/Modules/IO/Meta/src/itkMetaImageIO.cxx, line 653\n",
      "MetaImageIO (0x7feb9f3ac600): Unsupported or empty metaData item qto_xyz of type N3itk6MatrixIfLj4ELj4EEEfound, won't be written to image file\n",
      "\n"
     ]
    },
    {
     "name": "stdout",
     "output_type": "stream",
     "text": [
      "Converted /Users/oni/Documents/Emily/AIMS_TBI_evaluation_May24/example-evaluation-method/test/input/scan_0001_Lesion_dilated.nii.gz to /Users/oni/Documents/Emily/AIMS_TBI_evaluation_May24/example-evaluation-method/test/input/scan_0001_Lesion_dilated.mha\n"
     ]
    },
    {
     "name": "stderr",
     "output_type": "stream",
     "text": [
      "WARNING: In /Users/runner/work/1/sitk-build/ITK/Modules/IO/Meta/src/itkMetaImageIO.cxx, line 653\n",
      "MetaImageIO (0x7feb6e009400): Unsupported or empty metaData item aux_file of type NSt3__112basic_stringIcNS_11char_traitsIcEENS_9allocatorIcEEEEfound, won't be written to image file\n",
      "\n",
      "WARNING: In /Users/runner/work/1/sitk-build/ITK/Modules/IO/Meta/src/itkMetaImageIO.cxx, line 653\n",
      "MetaImageIO (0x7feb6e009400): Unsupported or empty metaData item intent_name of type NSt3__112basic_stringIcNS_11char_traitsIcEENS_9allocatorIcEEEEfound, won't be written to image file\n",
      "\n",
      "WARNING: In /Users/runner/work/1/sitk-build/ITK/Modules/IO/Meta/src/itkMetaImageIO.cxx, line 653\n",
      "MetaImageIO (0x7feb6e009400): Unsupported or empty metaData item qto_xyz of type N3itk6MatrixIfLj4ELj4EEEfound, won't be written to image file\n",
      "\n"
     ]
    },
    {
     "name": "stdout",
     "output_type": "stream",
     "text": [
      "Converted /Users/oni/Documents/Emily/AIMS_TBI_evaluation_May24/example-evaluation-method/test/input/scan_0805_Lesion_dilated.nii.gz to /Users/oni/Documents/Emily/AIMS_TBI_evaluation_May24/example-evaluation-method/test/input/scan_0805_Lesion_dilated.mha\n",
      "Converted /Users/oni/Documents/Emily/AIMS_TBI_evaluation_May24/example-evaluation-method/test/input/scan_0906_Lesion_dilated.nii.gz to /Users/oni/Documents/Emily/AIMS_TBI_evaluation_May24/example-evaluation-method/test/input/scan_0906_Lesion_dilated.mha\n"
     ]
    },
    {
     "name": "stderr",
     "output_type": "stream",
     "text": [
      "WARNING: In /Users/runner/work/1/sitk-build/ITK/Modules/IO/Meta/src/itkMetaImageIO.cxx, line 653\n",
      "MetaImageIO (0x7feb6f815800): Unsupported or empty metaData item aux_file of type NSt3__112basic_stringIcNS_11char_traitsIcEENS_9allocatorIcEEEEfound, won't be written to image file\n",
      "\n",
      "WARNING: In /Users/runner/work/1/sitk-build/ITK/Modules/IO/Meta/src/itkMetaImageIO.cxx, line 653\n",
      "MetaImageIO (0x7feb6f815800): Unsupported or empty metaData item intent_name of type NSt3__112basic_stringIcNS_11char_traitsIcEENS_9allocatorIcEEEEfound, won't be written to image file\n",
      "\n",
      "WARNING: In /Users/runner/work/1/sitk-build/ITK/Modules/IO/Meta/src/itkMetaImageIO.cxx, line 653\n",
      "MetaImageIO (0x7feb6f815800): Unsupported or empty metaData item qto_xyz of type N3itk6MatrixIfLj4ELj4EEEfound, won't be written to image file\n",
      "\n",
      "WARNING: In /Users/runner/work/1/sitk-build/ITK/Modules/IO/Meta/src/itkMetaImageIO.cxx, line 653\n",
      "MetaImageIO (0x7feb6f815200): Unsupported or empty metaData item aux_file of type NSt3__112basic_stringIcNS_11char_traitsIcEENS_9allocatorIcEEEEfound, won't be written to image file\n",
      "\n",
      "WARNING: In /Users/runner/work/1/sitk-build/ITK/Modules/IO/Meta/src/itkMetaImageIO.cxx, line 653\n",
      "MetaImageIO (0x7feb6f815200): Unsupported or empty metaData item intent_name of type NSt3__112basic_stringIcNS_11char_traitsIcEENS_9allocatorIcEEEEfound, won't be written to image file\n",
      "\n",
      "WARNING: In /Users/runner/work/1/sitk-build/ITK/Modules/IO/Meta/src/itkMetaImageIO.cxx, line 653\n",
      "MetaImageIO (0x7feb6f815200): Unsupported or empty metaData item qto_xyz of type N3itk6MatrixIfLj4ELj4EEEfound, won't be written to image file\n",
      "\n"
     ]
    },
    {
     "name": "stdout",
     "output_type": "stream",
     "text": [
      "Converted /Users/oni/Documents/Emily/AIMS_TBI_evaluation_May24/example-evaluation-method/test/input/scan_0457_Lesion_dilated.nii.gz to /Users/oni/Documents/Emily/AIMS_TBI_evaluation_May24/example-evaluation-method/test/input/scan_0457_Lesion_dilated.mha\n",
      "Converted /Users/oni/Documents/Emily/AIMS_TBI_evaluation_May24/example-evaluation-method/test/input/scan_1023_Lesion_dilated.nii.gz to /Users/oni/Documents/Emily/AIMS_TBI_evaluation_May24/example-evaluation-method/test/input/scan_1023_Lesion_dilated.mha\n"
     ]
    },
    {
     "name": "stderr",
     "output_type": "stream",
     "text": [
      "WARNING: In /Users/runner/work/1/sitk-build/ITK/Modules/IO/Meta/src/itkMetaImageIO.cxx, line 653\n",
      "MetaImageIO (0x7feb6e014e00): Unsupported or empty metaData item aux_file of type NSt3__112basic_stringIcNS_11char_traitsIcEENS_9allocatorIcEEEEfound, won't be written to image file\n",
      "\n",
      "WARNING: In /Users/runner/work/1/sitk-build/ITK/Modules/IO/Meta/src/itkMetaImageIO.cxx, line 653\n",
      "MetaImageIO (0x7feb6e014e00): Unsupported or empty metaData item intent_name of type NSt3__112basic_stringIcNS_11char_traitsIcEENS_9allocatorIcEEEEfound, won't be written to image file\n",
      "\n",
      "WARNING: In /Users/runner/work/1/sitk-build/ITK/Modules/IO/Meta/src/itkMetaImageIO.cxx, line 653\n",
      "MetaImageIO (0x7feb6e014e00): Unsupported or empty metaData item qto_xyz of type N3itk6MatrixIfLj4ELj4EEEfound, won't be written to image file\n",
      "\n",
      "WARNING: In /Users/runner/work/1/sitk-build/ITK/Modules/IO/Meta/src/itkMetaImageIO.cxx, line 653\n",
      "MetaImageIO (0x7feb6e014e00): Unsupported or empty metaData item aux_file of type NSt3__112basic_stringIcNS_11char_traitsIcEENS_9allocatorIcEEEEfound, won't be written to image file\n",
      "\n",
      "WARNING: In /Users/runner/work/1/sitk-build/ITK/Modules/IO/Meta/src/itkMetaImageIO.cxx, line 653\n",
      "MetaImageIO (0x7feb6e014e00): Unsupported or empty metaData item intent_name of type NSt3__112basic_stringIcNS_11char_traitsIcEENS_9allocatorIcEEEEfound, won't be written to image file\n",
      "\n",
      "WARNING: In /Users/runner/work/1/sitk-build/ITK/Modules/IO/Meta/src/itkMetaImageIO.cxx, line 653\n",
      "MetaImageIO (0x7feb6e014e00): Unsupported or empty metaData item qto_xyz of type N3itk6MatrixIfLj4ELj4EEEfound, won't be written to image file\n",
      "\n"
     ]
    },
    {
     "name": "stdout",
     "output_type": "stream",
     "text": [
      "Converted /Users/oni/Documents/Emily/AIMS_TBI_evaluation_May24/example-evaluation-method/test/input/scan_0889_Lesion_dilated.nii.gz to /Users/oni/Documents/Emily/AIMS_TBI_evaluation_May24/example-evaluation-method/test/input/scan_0889_Lesion_dilated.mha\n"
     ]
    },
    {
     "name": "stderr",
     "output_type": "stream",
     "text": [
      "WARNING: In /Users/runner/work/1/sitk-build/ITK/Modules/IO/Meta/src/itkMetaImageIO.cxx, line 653\n",
      "MetaImageIO (0x7feb9d897400): Unsupported or empty metaData item aux_file of type NSt3__112basic_stringIcNS_11char_traitsIcEENS_9allocatorIcEEEEfound, won't be written to image file\n",
      "\n",
      "WARNING: In /Users/runner/work/1/sitk-build/ITK/Modules/IO/Meta/src/itkMetaImageIO.cxx, line 653\n",
      "MetaImageIO (0x7feb9d897400): Unsupported or empty metaData item intent_name of type NSt3__112basic_stringIcNS_11char_traitsIcEENS_9allocatorIcEEEEfound, won't be written to image file\n",
      "\n",
      "WARNING: In /Users/runner/work/1/sitk-build/ITK/Modules/IO/Meta/src/itkMetaImageIO.cxx, line 653\n",
      "MetaImageIO (0x7feb9d897400): Unsupported or empty metaData item qto_xyz of type N3itk6MatrixIfLj4ELj4EEEfound, won't be written to image file\n",
      "\n"
     ]
    },
    {
     "name": "stdout",
     "output_type": "stream",
     "text": [
      "Converted /Users/oni/Documents/Emily/AIMS_TBI_evaluation_May24/example-evaluation-method/test/input/scan_0311_Lesion_dilated.nii.gz to /Users/oni/Documents/Emily/AIMS_TBI_evaluation_May24/example-evaluation-method/test/input/scan_0311_Lesion_dilated.mha\n",
      "Converted /Users/oni/Documents/Emily/AIMS_TBI_evaluation_May24/example-evaluation-method/test/input/scan_0523_Lesion_dilated.nii.gz to /Users/oni/Documents/Emily/AIMS_TBI_evaluation_May24/example-evaluation-method/test/input/scan_0523_Lesion_dilated.mha\n"
     ]
    },
    {
     "name": "stderr",
     "output_type": "stream",
     "text": [
      "WARNING: In /Users/runner/work/1/sitk-build/ITK/Modules/IO/Meta/src/itkMetaImageIO.cxx, line 653\n",
      "MetaImageIO (0x7feb6f815200): Unsupported or empty metaData item aux_file of type NSt3__112basic_stringIcNS_11char_traitsIcEENS_9allocatorIcEEEEfound, won't be written to image file\n",
      "\n",
      "WARNING: In /Users/runner/work/1/sitk-build/ITK/Modules/IO/Meta/src/itkMetaImageIO.cxx, line 653\n",
      "MetaImageIO (0x7feb6f815200): Unsupported or empty metaData item intent_name of type NSt3__112basic_stringIcNS_11char_traitsIcEENS_9allocatorIcEEEEfound, won't be written to image file\n",
      "\n",
      "WARNING: In /Users/runner/work/1/sitk-build/ITK/Modules/IO/Meta/src/itkMetaImageIO.cxx, line 653\n",
      "MetaImageIO (0x7feb6f815200): Unsupported or empty metaData item qto_xyz of type N3itk6MatrixIfLj4ELj4EEEfound, won't be written to image file\n",
      "\n",
      "WARNING: In /Users/runner/work/1/sitk-build/ITK/Modules/IO/Meta/src/itkMetaImageIO.cxx, line 653\n",
      "MetaImageIO (0x7feb6e015400): Unsupported or empty metaData item aux_file of type NSt3__112basic_stringIcNS_11char_traitsIcEENS_9allocatorIcEEEEfound, won't be written to image file\n",
      "\n",
      "WARNING: In /Users/runner/work/1/sitk-build/ITK/Modules/IO/Meta/src/itkMetaImageIO.cxx, line 653\n",
      "MetaImageIO (0x7feb6e015400): Unsupported or empty metaData item intent_name of type NSt3__112basic_stringIcNS_11char_traitsIcEENS_9allocatorIcEEEEfound, won't be written to image file\n",
      "\n",
      "WARNING: In /Users/runner/work/1/sitk-build/ITK/Modules/IO/Meta/src/itkMetaImageIO.cxx, line 653\n",
      "MetaImageIO (0x7feb6e015400): Unsupported or empty metaData item qto_xyz of type N3itk6MatrixIfLj4ELj4EEEfound, won't be written to image file\n",
      "\n"
     ]
    },
    {
     "name": "stdout",
     "output_type": "stream",
     "text": [
      "Converted /Users/oni/Documents/Emily/AIMS_TBI_evaluation_May24/example-evaluation-method/test/input/scan_0786_Lesion_dilated.nii.gz to /Users/oni/Documents/Emily/AIMS_TBI_evaluation_May24/example-evaluation-method/test/input/scan_0786_Lesion_dilated.mha\n",
      "Converted /Users/oni/Documents/Emily/AIMS_TBI_evaluation_May24/example-evaluation-method/test/input/scan_0545_Lesion_dilated.nii.gz to /Users/oni/Documents/Emily/AIMS_TBI_evaluation_May24/example-evaluation-method/test/input/scan_0545_Lesion_dilated.mha\n"
     ]
    },
    {
     "name": "stderr",
     "output_type": "stream",
     "text": [
      "WARNING: In /Users/runner/work/1/sitk-build/ITK/Modules/IO/Meta/src/itkMetaImageIO.cxx, line 653\n",
      "MetaImageIO (0x7feb6f815200): Unsupported or empty metaData item aux_file of type NSt3__112basic_stringIcNS_11char_traitsIcEENS_9allocatorIcEEEEfound, won't be written to image file\n",
      "\n",
      "WARNING: In /Users/runner/work/1/sitk-build/ITK/Modules/IO/Meta/src/itkMetaImageIO.cxx, line 653\n",
      "MetaImageIO (0x7feb6f815200): Unsupported or empty metaData item intent_name of type NSt3__112basic_stringIcNS_11char_traitsIcEENS_9allocatorIcEEEEfound, won't be written to image file\n",
      "\n",
      "WARNING: In /Users/runner/work/1/sitk-build/ITK/Modules/IO/Meta/src/itkMetaImageIO.cxx, line 653\n",
      "MetaImageIO (0x7feb6f815200): Unsupported or empty metaData item qto_xyz of type N3itk6MatrixIfLj4ELj4EEEfound, won't be written to image file\n",
      "\n",
      "WARNING: In /Users/runner/work/1/sitk-build/ITK/Modules/IO/Meta/src/itkMetaImageIO.cxx, line 653\n",
      "MetaImageIO (0x7feb9f3ac800): Unsupported or empty metaData item aux_file of type NSt3__112basic_stringIcNS_11char_traitsIcEENS_9allocatorIcEEEEfound, won't be written to image file\n",
      "\n",
      "WARNING: In /Users/runner/work/1/sitk-build/ITK/Modules/IO/Meta/src/itkMetaImageIO.cxx, line 653\n",
      "MetaImageIO (0x7feb9f3ac800): Unsupported or empty metaData item intent_name of type NSt3__112basic_stringIcNS_11char_traitsIcEENS_9allocatorIcEEEEfound, won't be written to image file\n",
      "\n",
      "WARNING: In /Users/runner/work/1/sitk-build/ITK/Modules/IO/Meta/src/itkMetaImageIO.cxx, line 653\n",
      "MetaImageIO (0x7feb9f3ac800): Unsupported or empty metaData item qto_xyz of type N3itk6MatrixIfLj4ELj4EEEfound, won't be written to image file\n",
      "\n"
     ]
    },
    {
     "name": "stdout",
     "output_type": "stream",
     "text": [
      "Converted /Users/oni/Documents/Emily/AIMS_TBI_evaluation_May24/example-evaluation-method/test/input/scan_0044_Lesion_dilated.nii.gz to /Users/oni/Documents/Emily/AIMS_TBI_evaluation_May24/example-evaluation-method/test/input/scan_0044_Lesion_dilated.mha\n",
      "Converted /Users/oni/Documents/Emily/AIMS_TBI_evaluation_May24/example-evaluation-method/test/input/scan_0129_Lesion_dilated.nii.gz to /Users/oni/Documents/Emily/AIMS_TBI_evaluation_May24/example-evaluation-method/test/input/scan_0129_Lesion_dilated.mha\n"
     ]
    },
    {
     "name": "stderr",
     "output_type": "stream",
     "text": [
      "WARNING: In /Users/runner/work/1/sitk-build/ITK/Modules/IO/Meta/src/itkMetaImageIO.cxx, line 653\n",
      "MetaImageIO (0x7feb9d8baa00): Unsupported or empty metaData item aux_file of type NSt3__112basic_stringIcNS_11char_traitsIcEENS_9allocatorIcEEEEfound, won't be written to image file\n",
      "\n",
      "WARNING: In /Users/runner/work/1/sitk-build/ITK/Modules/IO/Meta/src/itkMetaImageIO.cxx, line 653\n",
      "MetaImageIO (0x7feb9d8baa00): Unsupported or empty metaData item intent_name of type NSt3__112basic_stringIcNS_11char_traitsIcEENS_9allocatorIcEEEEfound, won't be written to image file\n",
      "\n",
      "WARNING: In /Users/runner/work/1/sitk-build/ITK/Modules/IO/Meta/src/itkMetaImageIO.cxx, line 653\n",
      "MetaImageIO (0x7feb9d8baa00): Unsupported or empty metaData item qto_xyz of type N3itk6MatrixIfLj4ELj4EEEfound, won't be written to image file\n",
      "\n",
      "WARNING: In /Users/runner/work/1/sitk-build/ITK/Modules/IO/Meta/src/itkMetaImageIO.cxx, line 653\n",
      "MetaImageIO (0x7feb6e014e00): Unsupported or empty metaData item aux_file of type NSt3__112basic_stringIcNS_11char_traitsIcEENS_9allocatorIcEEEEfound, won't be written to image file\n",
      "\n",
      "WARNING: In /Users/runner/work/1/sitk-build/ITK/Modules/IO/Meta/src/itkMetaImageIO.cxx, line 653\n",
      "MetaImageIO (0x7feb6e014e00): Unsupported or empty metaData item intent_name of type NSt3__112basic_stringIcNS_11char_traitsIcEENS_9allocatorIcEEEEfound, won't be written to image file\n",
      "\n",
      "WARNING: In /Users/runner/work/1/sitk-build/ITK/Modules/IO/Meta/src/itkMetaImageIO.cxx, line 653\n",
      "MetaImageIO (0x7feb6e014e00): Unsupported or empty metaData item qto_xyz of type N3itk6MatrixIfLj4ELj4EEEfound, won't be written to image file\n",
      "\n"
     ]
    },
    {
     "name": "stdout",
     "output_type": "stream",
     "text": [
      "Converted /Users/oni/Documents/Emily/AIMS_TBI_evaluation_May24/example-evaluation-method/test/input/scan_1131_Lesion_dilated.nii.gz to /Users/oni/Documents/Emily/AIMS_TBI_evaluation_May24/example-evaluation-method/test/input/scan_1131_Lesion_dilated.mha\n",
      "Converted /Users/oni/Documents/Emily/AIMS_TBI_evaluation_May24/example-evaluation-method/test/input/scan_0553_Lesion_dilated.nii.gz to /Users/oni/Documents/Emily/AIMS_TBI_evaluation_May24/example-evaluation-method/test/input/scan_0553_Lesion_dilated.mha\n"
     ]
    },
    {
     "name": "stderr",
     "output_type": "stream",
     "text": [
      "WARNING: In /Users/runner/work/1/sitk-build/ITK/Modules/IO/Meta/src/itkMetaImageIO.cxx, line 653\n",
      "MetaImageIO (0x7feb6f815200): Unsupported or empty metaData item aux_file of type NSt3__112basic_stringIcNS_11char_traitsIcEENS_9allocatorIcEEEEfound, won't be written to image file\n",
      "\n",
      "WARNING: In /Users/runner/work/1/sitk-build/ITK/Modules/IO/Meta/src/itkMetaImageIO.cxx, line 653\n",
      "MetaImageIO (0x7feb6f815200): Unsupported or empty metaData item intent_name of type NSt3__112basic_stringIcNS_11char_traitsIcEENS_9allocatorIcEEEEfound, won't be written to image file\n",
      "\n",
      "WARNING: In /Users/runner/work/1/sitk-build/ITK/Modules/IO/Meta/src/itkMetaImageIO.cxx, line 653\n",
      "MetaImageIO (0x7feb6f815200): Unsupported or empty metaData item qto_xyz of type N3itk6MatrixIfLj4ELj4EEEfound, won't be written to image file\n",
      "\n",
      "WARNING: In /Users/runner/work/1/sitk-build/ITK/Modules/IO/Meta/src/itkMetaImageIO.cxx, line 653\n",
      "MetaImageIO (0x7feb6e015400): Unsupported or empty metaData item aux_file of type NSt3__112basic_stringIcNS_11char_traitsIcEENS_9allocatorIcEEEEfound, won't be written to image file\n",
      "\n",
      "WARNING: In /Users/runner/work/1/sitk-build/ITK/Modules/IO/Meta/src/itkMetaImageIO.cxx, line 653\n",
      "MetaImageIO (0x7feb6e015400): Unsupported or empty metaData item intent_name of type NSt3__112basic_stringIcNS_11char_traitsIcEENS_9allocatorIcEEEEfound, won't be written to image file\n",
      "\n",
      "WARNING: In /Users/runner/work/1/sitk-build/ITK/Modules/IO/Meta/src/itkMetaImageIO.cxx, line 653\n",
      "MetaImageIO (0x7feb6e015400): Unsupported or empty metaData item qto_xyz of type N3itk6MatrixIfLj4ELj4EEEfound, won't be written to image file\n",
      "\n"
     ]
    },
    {
     "name": "stdout",
     "output_type": "stream",
     "text": [
      "Converted /Users/oni/Documents/Emily/AIMS_TBI_evaluation_May24/example-evaluation-method/test/input/scan_0299_Lesion_dilated.nii.gz to /Users/oni/Documents/Emily/AIMS_TBI_evaluation_May24/example-evaluation-method/test/input/scan_0299_Lesion_dilated.mha\n",
      "Converted /Users/oni/Documents/Emily/AIMS_TBI_evaluation_May24/example-evaluation-method/test/input/scan_0105_Lesion_dilated.nii.gz to /Users/oni/Documents/Emily/AIMS_TBI_evaluation_May24/example-evaluation-method/test/input/scan_0105_Lesion_dilated.mha\n"
     ]
    },
    {
     "name": "stderr",
     "output_type": "stream",
     "text": [
      "WARNING: In /Users/runner/work/1/sitk-build/ITK/Modules/IO/Meta/src/itkMetaImageIO.cxx, line 653\n",
      "MetaImageIO (0x7feb9f3ac800): Unsupported or empty metaData item aux_file of type NSt3__112basic_stringIcNS_11char_traitsIcEENS_9allocatorIcEEEEfound, won't be written to image file\n",
      "\n",
      "WARNING: In /Users/runner/work/1/sitk-build/ITK/Modules/IO/Meta/src/itkMetaImageIO.cxx, line 653\n",
      "MetaImageIO (0x7feb9f3ac800): Unsupported or empty metaData item intent_name of type NSt3__112basic_stringIcNS_11char_traitsIcEENS_9allocatorIcEEEEfound, won't be written to image file\n",
      "\n",
      "WARNING: In /Users/runner/work/1/sitk-build/ITK/Modules/IO/Meta/src/itkMetaImageIO.cxx, line 653\n",
      "MetaImageIO (0x7feb9f3ac800): Unsupported or empty metaData item qto_xyz of type N3itk6MatrixIfLj4ELj4EEEfound, won't be written to image file\n",
      "\n",
      "WARNING: In /Users/runner/work/1/sitk-build/ITK/Modules/IO/Meta/src/itkMetaImageIO.cxx, line 653\n",
      "MetaImageIO (0x7feb6e015400): Unsupported or empty metaData item aux_file of type NSt3__112basic_stringIcNS_11char_traitsIcEENS_9allocatorIcEEEEfound, won't be written to image file\n",
      "\n",
      "WARNING: In /Users/runner/work/1/sitk-build/ITK/Modules/IO/Meta/src/itkMetaImageIO.cxx, line 653\n",
      "MetaImageIO (0x7feb6e015400): Unsupported or empty metaData item intent_name of type NSt3__112basic_stringIcNS_11char_traitsIcEENS_9allocatorIcEEEEfound, won't be written to image file\n",
      "\n",
      "WARNING: In /Users/runner/work/1/sitk-build/ITK/Modules/IO/Meta/src/itkMetaImageIO.cxx, line 653\n",
      "MetaImageIO (0x7feb6e015400): Unsupported or empty metaData item qto_xyz of type N3itk6MatrixIfLj4ELj4EEEfound, won't be written to image file\n",
      "\n"
     ]
    },
    {
     "name": "stdout",
     "output_type": "stream",
     "text": [
      "Converted /Users/oni/Documents/Emily/AIMS_TBI_evaluation_May24/example-evaluation-method/test/input/scan_0569_Lesion_dilated.nii.gz to /Users/oni/Documents/Emily/AIMS_TBI_evaluation_May24/example-evaluation-method/test/input/scan_0569_Lesion_dilated.mha\n",
      "Converted /Users/oni/Documents/Emily/AIMS_TBI_evaluation_May24/example-evaluation-method/test/input/scan_0062_Lesion_dilated.nii.gz to /Users/oni/Documents/Emily/AIMS_TBI_evaluation_May24/example-evaluation-method/test/input/scan_0062_Lesion_dilated.mha\n"
     ]
    },
    {
     "name": "stderr",
     "output_type": "stream",
     "text": [
      "WARNING: In /Users/runner/work/1/sitk-build/ITK/Modules/IO/Meta/src/itkMetaImageIO.cxx, line 653\n",
      "MetaImageIO (0x7feb6f815600): Unsupported or empty metaData item aux_file of type NSt3__112basic_stringIcNS_11char_traitsIcEENS_9allocatorIcEEEEfound, won't be written to image file\n",
      "\n",
      "WARNING: In /Users/runner/work/1/sitk-build/ITK/Modules/IO/Meta/src/itkMetaImageIO.cxx, line 653\n",
      "MetaImageIO (0x7feb6f815600): Unsupported or empty metaData item intent_name of type NSt3__112basic_stringIcNS_11char_traitsIcEENS_9allocatorIcEEEEfound, won't be written to image file\n",
      "\n",
      "WARNING: In /Users/runner/work/1/sitk-build/ITK/Modules/IO/Meta/src/itkMetaImageIO.cxx, line 653\n",
      "MetaImageIO (0x7feb6f815600): Unsupported or empty metaData item qto_xyz of type N3itk6MatrixIfLj4ELj4EEEfound, won't be written to image file\n",
      "\n",
      "WARNING: In /Users/runner/work/1/sitk-build/ITK/Modules/IO/Meta/src/itkMetaImageIO.cxx, line 653\n",
      "MetaImageIO (0x7feb9f3ac800): Unsupported or empty metaData item aux_file of type NSt3__112basic_stringIcNS_11char_traitsIcEENS_9allocatorIcEEEEfound, won't be written to image file\n",
      "\n",
      "WARNING: In /Users/runner/work/1/sitk-build/ITK/Modules/IO/Meta/src/itkMetaImageIO.cxx, line 653\n",
      "MetaImageIO (0x7feb9f3ac800): Unsupported or empty metaData item intent_name of type NSt3__112basic_stringIcNS_11char_traitsIcEENS_9allocatorIcEEEEfound, won't be written to image file\n",
      "\n",
      "WARNING: In /Users/runner/work/1/sitk-build/ITK/Modules/IO/Meta/src/itkMetaImageIO.cxx, line 653\n",
      "MetaImageIO (0x7feb9f3ac800): Unsupported or empty metaData item qto_xyz of type N3itk6MatrixIfLj4ELj4EEEfound, won't be written to image file\n",
      "\n"
     ]
    },
    {
     "name": "stdout",
     "output_type": "stream",
     "text": [
      "Converted /Users/oni/Documents/Emily/AIMS_TBI_evaluation_May24/example-evaluation-method/test/input/scan_0687_Lesion_dilated.nii.gz to /Users/oni/Documents/Emily/AIMS_TBI_evaluation_May24/example-evaluation-method/test/input/scan_0687_Lesion_dilated.mha\n",
      "Converted /Users/oni/Documents/Emily/AIMS_TBI_evaluation_May24/example-evaluation-method/test/input/scan_0784_Lesion_dilated.nii.gz to /Users/oni/Documents/Emily/AIMS_TBI_evaluation_May24/example-evaluation-method/test/input/scan_0784_Lesion_dilated.mha\n"
     ]
    },
    {
     "name": "stderr",
     "output_type": "stream",
     "text": [
      "WARNING: In /Users/runner/work/1/sitk-build/ITK/Modules/IO/Meta/src/itkMetaImageIO.cxx, line 653\n",
      "MetaImageIO (0x7feb9f3ac800): Unsupported or empty metaData item aux_file of type NSt3__112basic_stringIcNS_11char_traitsIcEENS_9allocatorIcEEEEfound, won't be written to image file\n",
      "\n",
      "WARNING: In /Users/runner/work/1/sitk-build/ITK/Modules/IO/Meta/src/itkMetaImageIO.cxx, line 653\n",
      "MetaImageIO (0x7feb9f3ac800): Unsupported or empty metaData item intent_name of type NSt3__112basic_stringIcNS_11char_traitsIcEENS_9allocatorIcEEEEfound, won't be written to image file\n",
      "\n",
      "WARNING: In /Users/runner/work/1/sitk-build/ITK/Modules/IO/Meta/src/itkMetaImageIO.cxx, line 653\n",
      "MetaImageIO (0x7feb9f3ac800): Unsupported or empty metaData item qto_xyz of type N3itk6MatrixIfLj4ELj4EEEfound, won't be written to image file\n",
      "\n",
      "WARNING: In /Users/runner/work/1/sitk-build/ITK/Modules/IO/Meta/src/itkMetaImageIO.cxx, line 653\n",
      "MetaImageIO (0x7feb6e014e00): Unsupported or empty metaData item aux_file of type NSt3__112basic_stringIcNS_11char_traitsIcEENS_9allocatorIcEEEEfound, won't be written to image file\n",
      "\n",
      "WARNING: In /Users/runner/work/1/sitk-build/ITK/Modules/IO/Meta/src/itkMetaImageIO.cxx, line 653\n",
      "MetaImageIO (0x7feb6e014e00): Unsupported or empty metaData item intent_name of type NSt3__112basic_stringIcNS_11char_traitsIcEENS_9allocatorIcEEEEfound, won't be written to image file\n",
      "\n",
      "WARNING: In /Users/runner/work/1/sitk-build/ITK/Modules/IO/Meta/src/itkMetaImageIO.cxx, line 653\n",
      "MetaImageIO (0x7feb6e014e00): Unsupported or empty metaData item qto_xyz of type N3itk6MatrixIfLj4ELj4EEEfound, won't be written to image file\n",
      "\n"
     ]
    },
    {
     "name": "stdout",
     "output_type": "stream",
     "text": [
      "Converted /Users/oni/Documents/Emily/AIMS_TBI_evaluation_May24/example-evaluation-method/test/input/scan_0724_Lesion_dilated.nii.gz to /Users/oni/Documents/Emily/AIMS_TBI_evaluation_May24/example-evaluation-method/test/input/scan_0724_Lesion_dilated.mha\n"
     ]
    },
    {
     "name": "stderr",
     "output_type": "stream",
     "text": [
      "WARNING: In /Users/runner/work/1/sitk-build/ITK/Modules/IO/Meta/src/itkMetaImageIO.cxx, line 653\n",
      "MetaImageIO (0x7feb6e014e00): Unsupported or empty metaData item aux_file of type NSt3__112basic_stringIcNS_11char_traitsIcEENS_9allocatorIcEEEEfound, won't be written to image file\n",
      "\n",
      "WARNING: In /Users/runner/work/1/sitk-build/ITK/Modules/IO/Meta/src/itkMetaImageIO.cxx, line 653\n",
      "MetaImageIO (0x7feb6e014e00): Unsupported or empty metaData item intent_name of type NSt3__112basic_stringIcNS_11char_traitsIcEENS_9allocatorIcEEEEfound, won't be written to image file\n",
      "\n",
      "WARNING: In /Users/runner/work/1/sitk-build/ITK/Modules/IO/Meta/src/itkMetaImageIO.cxx, line 653\n",
      "MetaImageIO (0x7feb6e014e00): Unsupported or empty metaData item qto_xyz of type N3itk6MatrixIfLj4ELj4EEEfound, won't be written to image file\n",
      "\n"
     ]
    },
    {
     "name": "stdout",
     "output_type": "stream",
     "text": [
      "Converted /Users/oni/Documents/Emily/AIMS_TBI_evaluation_May24/example-evaluation-method/test/input/scan_0080_Lesion_dilated.nii.gz to /Users/oni/Documents/Emily/AIMS_TBI_evaluation_May24/example-evaluation-method/test/input/scan_0080_Lesion_dilated.mha\n"
     ]
    },
    {
     "name": "stderr",
     "output_type": "stream",
     "text": [
      "WARNING: In /Users/runner/work/1/sitk-build/ITK/Modules/IO/Meta/src/itkMetaImageIO.cxx, line 653\n",
      "MetaImageIO (0x7feb6f815200): Unsupported or empty metaData item aux_file of type NSt3__112basic_stringIcNS_11char_traitsIcEENS_9allocatorIcEEEEfound, won't be written to image file\n",
      "\n",
      "WARNING: In /Users/runner/work/1/sitk-build/ITK/Modules/IO/Meta/src/itkMetaImageIO.cxx, line 653\n",
      "MetaImageIO (0x7feb6f815200): Unsupported or empty metaData item intent_name of type NSt3__112basic_stringIcNS_11char_traitsIcEENS_9allocatorIcEEEEfound, won't be written to image file\n",
      "\n",
      "WARNING: In /Users/runner/work/1/sitk-build/ITK/Modules/IO/Meta/src/itkMetaImageIO.cxx, line 653\n",
      "MetaImageIO (0x7feb6f815200): Unsupported or empty metaData item qto_xyz of type N3itk6MatrixIfLj4ELj4EEEfound, won't be written to image file\n",
      "\n"
     ]
    },
    {
     "name": "stdout",
     "output_type": "stream",
     "text": [
      "Converted /Users/oni/Documents/Emily/AIMS_TBI_evaluation_May24/example-evaluation-method/test/input/scan_0020_Lesion_dilated.nii.gz to /Users/oni/Documents/Emily/AIMS_TBI_evaluation_May24/example-evaluation-method/test/input/scan_0020_Lesion_dilated.mha\n"
     ]
    },
    {
     "name": "stderr",
     "output_type": "stream",
     "text": [
      "WARNING: In /Users/runner/work/1/sitk-build/ITK/Modules/IO/Meta/src/itkMetaImageIO.cxx, line 653\n",
      "MetaImageIO (0x7feb9f3ac800): Unsupported or empty metaData item aux_file of type NSt3__112basic_stringIcNS_11char_traitsIcEENS_9allocatorIcEEEEfound, won't be written to image file\n",
      "\n",
      "WARNING: In /Users/runner/work/1/sitk-build/ITK/Modules/IO/Meta/src/itkMetaImageIO.cxx, line 653\n",
      "MetaImageIO (0x7feb9f3ac800): Unsupported or empty metaData item intent_name of type NSt3__112basic_stringIcNS_11char_traitsIcEENS_9allocatorIcEEEEfound, won't be written to image file\n",
      "\n",
      "WARNING: In /Users/runner/work/1/sitk-build/ITK/Modules/IO/Meta/src/itkMetaImageIO.cxx, line 653\n",
      "MetaImageIO (0x7feb9f3ac800): Unsupported or empty metaData item qto_xyz of type N3itk6MatrixIfLj4ELj4EEEfound, won't be written to image file\n",
      "\n"
     ]
    },
    {
     "name": "stdout",
     "output_type": "stream",
     "text": [
      "Converted /Users/oni/Documents/Emily/AIMS_TBI_evaluation_May24/example-evaluation-method/test/input/scan_0513_Lesion_dilated.nii.gz to /Users/oni/Documents/Emily/AIMS_TBI_evaluation_May24/example-evaluation-method/test/input/scan_0513_Lesion_dilated.mha\n"
     ]
    },
    {
     "name": "stderr",
     "output_type": "stream",
     "text": [
      "WARNING: In /Users/runner/work/1/sitk-build/ITK/Modules/IO/Meta/src/itkMetaImageIO.cxx, line 653\n",
      "MetaImageIO (0x7feb9f3ac800): Unsupported or empty metaData item aux_file of type NSt3__112basic_stringIcNS_11char_traitsIcEENS_9allocatorIcEEEEfound, won't be written to image file\n",
      "\n",
      "WARNING: In /Users/runner/work/1/sitk-build/ITK/Modules/IO/Meta/src/itkMetaImageIO.cxx, line 653\n",
      "MetaImageIO (0x7feb9f3ac800): Unsupported or empty metaData item intent_name of type NSt3__112basic_stringIcNS_11char_traitsIcEENS_9allocatorIcEEEEfound, won't be written to image file\n",
      "\n",
      "WARNING: In /Users/runner/work/1/sitk-build/ITK/Modules/IO/Meta/src/itkMetaImageIO.cxx, line 653\n",
      "MetaImageIO (0x7feb9f3ac800): Unsupported or empty metaData item qto_xyz of type N3itk6MatrixIfLj4ELj4EEEfound, won't be written to image file\n",
      "\n"
     ]
    },
    {
     "name": "stdout",
     "output_type": "stream",
     "text": [
      "Converted /Users/oni/Documents/Emily/AIMS_TBI_evaluation_May24/example-evaluation-method/test/input/scan_0169_Lesion_dilated.nii.gz to /Users/oni/Documents/Emily/AIMS_TBI_evaluation_May24/example-evaluation-method/test/input/scan_0169_Lesion_dilated.mha\n"
     ]
    },
    {
     "name": "stderr",
     "output_type": "stream",
     "text": [
      "WARNING: In /Users/runner/work/1/sitk-build/ITK/Modules/IO/Meta/src/itkMetaImageIO.cxx, line 653\n",
      "MetaImageIO (0x7feb9f3ac800): Unsupported or empty metaData item aux_file of type NSt3__112basic_stringIcNS_11char_traitsIcEENS_9allocatorIcEEEEfound, won't be written to image file\n",
      "\n",
      "WARNING: In /Users/runner/work/1/sitk-build/ITK/Modules/IO/Meta/src/itkMetaImageIO.cxx, line 653\n",
      "MetaImageIO (0x7feb9f3ac800): Unsupported or empty metaData item intent_name of type NSt3__112basic_stringIcNS_11char_traitsIcEENS_9allocatorIcEEEEfound, won't be written to image file\n",
      "\n",
      "WARNING: In /Users/runner/work/1/sitk-build/ITK/Modules/IO/Meta/src/itkMetaImageIO.cxx, line 653\n",
      "MetaImageIO (0x7feb9f3ac800): Unsupported or empty metaData item qto_xyz of type N3itk6MatrixIfLj4ELj4EEEfound, won't be written to image file\n",
      "\n"
     ]
    },
    {
     "name": "stdout",
     "output_type": "stream",
     "text": [
      "Converted /Users/oni/Documents/Emily/AIMS_TBI_evaluation_May24/example-evaluation-method/test/input/scan_0107_Lesion_dilated.nii.gz to /Users/oni/Documents/Emily/AIMS_TBI_evaluation_May24/example-evaluation-method/test/input/scan_0107_Lesion_dilated.mha\n"
     ]
    },
    {
     "name": "stderr",
     "output_type": "stream",
     "text": [
      "WARNING: In /Users/runner/work/1/sitk-build/ITK/Modules/IO/Meta/src/itkMetaImageIO.cxx, line 653\n",
      "MetaImageIO (0x7feb6f815200): Unsupported or empty metaData item aux_file of type NSt3__112basic_stringIcNS_11char_traitsIcEENS_9allocatorIcEEEEfound, won't be written to image file\n",
      "\n",
      "WARNING: In /Users/runner/work/1/sitk-build/ITK/Modules/IO/Meta/src/itkMetaImageIO.cxx, line 653\n",
      "MetaImageIO (0x7feb6f815200): Unsupported or empty metaData item intent_name of type NSt3__112basic_stringIcNS_11char_traitsIcEENS_9allocatorIcEEEEfound, won't be written to image file\n",
      "\n",
      "WARNING: In /Users/runner/work/1/sitk-build/ITK/Modules/IO/Meta/src/itkMetaImageIO.cxx, line 653\n",
      "MetaImageIO (0x7feb6f815200): Unsupported or empty metaData item qto_xyz of type N3itk6MatrixIfLj4ELj4EEEfound, won't be written to image file\n",
      "\n"
     ]
    },
    {
     "name": "stdout",
     "output_type": "stream",
     "text": [
      "Converted /Users/oni/Documents/Emily/AIMS_TBI_evaluation_May24/example-evaluation-method/test/input/scan_0028_Lesion_dilated.nii.gz to /Users/oni/Documents/Emily/AIMS_TBI_evaluation_May24/example-evaluation-method/test/input/scan_0028_Lesion_dilated.mha\n"
     ]
    },
    {
     "name": "stderr",
     "output_type": "stream",
     "text": [
      "WARNING: In /Users/runner/work/1/sitk-build/ITK/Modules/IO/Meta/src/itkMetaImageIO.cxx, line 653\n",
      "MetaImageIO (0x7feb9f3ac800): Unsupported or empty metaData item aux_file of type NSt3__112basic_stringIcNS_11char_traitsIcEENS_9allocatorIcEEEEfound, won't be written to image file\n",
      "\n",
      "WARNING: In /Users/runner/work/1/sitk-build/ITK/Modules/IO/Meta/src/itkMetaImageIO.cxx, line 653\n",
      "MetaImageIO (0x7feb9f3ac800): Unsupported or empty metaData item intent_name of type NSt3__112basic_stringIcNS_11char_traitsIcEENS_9allocatorIcEEEEfound, won't be written to image file\n",
      "\n",
      "WARNING: In /Users/runner/work/1/sitk-build/ITK/Modules/IO/Meta/src/itkMetaImageIO.cxx, line 653\n",
      "MetaImageIO (0x7feb9f3ac800): Unsupported or empty metaData item qto_xyz of type N3itk6MatrixIfLj4ELj4EEEfound, won't be written to image file\n",
      "\n"
     ]
    },
    {
     "name": "stdout",
     "output_type": "stream",
     "text": [
      "Converted /Users/oni/Documents/Emily/AIMS_TBI_evaluation_May24/example-evaluation-method/test/input/scan_0957_Lesion_dilated.nii.gz to /Users/oni/Documents/Emily/AIMS_TBI_evaluation_May24/example-evaluation-method/test/input/scan_0957_Lesion_dilated.mha\n"
     ]
    },
    {
     "name": "stderr",
     "output_type": "stream",
     "text": [
      "WARNING: In /Users/runner/work/1/sitk-build/ITK/Modules/IO/Meta/src/itkMetaImageIO.cxx, line 653\n",
      "MetaImageIO (0x7feb9f3ac800): Unsupported or empty metaData item aux_file of type NSt3__112basic_stringIcNS_11char_traitsIcEENS_9allocatorIcEEEEfound, won't be written to image file\n",
      "\n",
      "WARNING: In /Users/runner/work/1/sitk-build/ITK/Modules/IO/Meta/src/itkMetaImageIO.cxx, line 653\n",
      "MetaImageIO (0x7feb9f3ac800): Unsupported or empty metaData item intent_name of type NSt3__112basic_stringIcNS_11char_traitsIcEENS_9allocatorIcEEEEfound, won't be written to image file\n",
      "\n",
      "WARNING: In /Users/runner/work/1/sitk-build/ITK/Modules/IO/Meta/src/itkMetaImageIO.cxx, line 653\n",
      "MetaImageIO (0x7feb9f3ac800): Unsupported or empty metaData item qto_xyz of type N3itk6MatrixIfLj4ELj4EEEfound, won't be written to image file\n",
      "\n"
     ]
    },
    {
     "name": "stdout",
     "output_type": "stream",
     "text": [
      "Converted /Users/oni/Documents/Emily/AIMS_TBI_evaluation_May24/example-evaluation-method/test/input/scan_0217_Lesion_dilated.nii.gz to /Users/oni/Documents/Emily/AIMS_TBI_evaluation_May24/example-evaluation-method/test/input/scan_0217_Lesion_dilated.mha\n"
     ]
    },
    {
     "name": "stderr",
     "output_type": "stream",
     "text": [
      "WARNING: In /Users/runner/work/1/sitk-build/ITK/Modules/IO/Meta/src/itkMetaImageIO.cxx, line 653\n",
      "MetaImageIO (0x7feb6e014e00): Unsupported or empty metaData item aux_file of type NSt3__112basic_stringIcNS_11char_traitsIcEENS_9allocatorIcEEEEfound, won't be written to image file\n",
      "\n",
      "WARNING: In /Users/runner/work/1/sitk-build/ITK/Modules/IO/Meta/src/itkMetaImageIO.cxx, line 653\n",
      "MetaImageIO (0x7feb6e014e00): Unsupported or empty metaData item intent_name of type NSt3__112basic_stringIcNS_11char_traitsIcEENS_9allocatorIcEEEEfound, won't be written to image file\n",
      "\n",
      "WARNING: In /Users/runner/work/1/sitk-build/ITK/Modules/IO/Meta/src/itkMetaImageIO.cxx, line 653\n",
      "MetaImageIO (0x7feb6e014e00): Unsupported or empty metaData item qto_xyz of type N3itk6MatrixIfLj4ELj4EEEfound, won't be written to image file\n",
      "\n"
     ]
    },
    {
     "name": "stdout",
     "output_type": "stream",
     "text": [
      "Converted /Users/oni/Documents/Emily/AIMS_TBI_evaluation_May24/example-evaluation-method/test/input/scan_0716_Lesion_dilated.nii.gz to /Users/oni/Documents/Emily/AIMS_TBI_evaluation_May24/example-evaluation-method/test/input/scan_0716_Lesion_dilated.mha\n"
     ]
    },
    {
     "name": "stderr",
     "output_type": "stream",
     "text": [
      "WARNING: In /Users/runner/work/1/sitk-build/ITK/Modules/IO/Meta/src/itkMetaImageIO.cxx, line 653\n",
      "MetaImageIO (0x7feb6e00b600): Unsupported or empty metaData item aux_file of type NSt3__112basic_stringIcNS_11char_traitsIcEENS_9allocatorIcEEEEfound, won't be written to image file\n",
      "\n",
      "WARNING: In /Users/runner/work/1/sitk-build/ITK/Modules/IO/Meta/src/itkMetaImageIO.cxx, line 653\n",
      "MetaImageIO (0x7feb6e00b600): Unsupported or empty metaData item intent_name of type NSt3__112basic_stringIcNS_11char_traitsIcEENS_9allocatorIcEEEEfound, won't be written to image file\n",
      "\n",
      "WARNING: In /Users/runner/work/1/sitk-build/ITK/Modules/IO/Meta/src/itkMetaImageIO.cxx, line 653\n",
      "MetaImageIO (0x7feb6e00b600): Unsupported or empty metaData item qto_xyz of type N3itk6MatrixIfLj4ELj4EEEfound, won't be written to image file\n",
      "\n"
     ]
    },
    {
     "name": "stdout",
     "output_type": "stream",
     "text": [
      "Converted /Users/oni/Documents/Emily/AIMS_TBI_evaluation_May24/example-evaluation-method/test/input/scan_0452_Lesion_dilated.nii.gz to /Users/oni/Documents/Emily/AIMS_TBI_evaluation_May24/example-evaluation-method/test/input/scan_0452_Lesion_dilated.mha\n"
     ]
    },
    {
     "name": "stderr",
     "output_type": "stream",
     "text": [
      "WARNING: In /Users/runner/work/1/sitk-build/ITK/Modules/IO/Meta/src/itkMetaImageIO.cxx, line 653\n",
      "MetaImageIO (0x7feb6f815200): Unsupported or empty metaData item aux_file of type NSt3__112basic_stringIcNS_11char_traitsIcEENS_9allocatorIcEEEEfound, won't be written to image file\n",
      "\n",
      "WARNING: In /Users/runner/work/1/sitk-build/ITK/Modules/IO/Meta/src/itkMetaImageIO.cxx, line 653\n",
      "MetaImageIO (0x7feb6f815200): Unsupported or empty metaData item intent_name of type NSt3__112basic_stringIcNS_11char_traitsIcEENS_9allocatorIcEEEEfound, won't be written to image file\n",
      "\n",
      "WARNING: In /Users/runner/work/1/sitk-build/ITK/Modules/IO/Meta/src/itkMetaImageIO.cxx, line 653\n",
      "MetaImageIO (0x7feb6f815200): Unsupported or empty metaData item qto_xyz of type N3itk6MatrixIfLj4ELj4EEEfound, won't be written to image file\n",
      "\n"
     ]
    },
    {
     "name": "stdout",
     "output_type": "stream",
     "text": [
      "Converted /Users/oni/Documents/Emily/AIMS_TBI_evaluation_May24/example-evaluation-method/test/input/scan_0302_Lesion_dilated.nii.gz to /Users/oni/Documents/Emily/AIMS_TBI_evaluation_May24/example-evaluation-method/test/input/scan_0302_Lesion_dilated.mha\n"
     ]
    },
    {
     "name": "stderr",
     "output_type": "stream",
     "text": [
      "WARNING: In /Users/runner/work/1/sitk-build/ITK/Modules/IO/Meta/src/itkMetaImageIO.cxx, line 653\n",
      "MetaImageIO (0x7feb6f815200): Unsupported or empty metaData item aux_file of type NSt3__112basic_stringIcNS_11char_traitsIcEENS_9allocatorIcEEEEfound, won't be written to image file\n",
      "\n",
      "WARNING: In /Users/runner/work/1/sitk-build/ITK/Modules/IO/Meta/src/itkMetaImageIO.cxx, line 653\n",
      "MetaImageIO (0x7feb6f815200): Unsupported or empty metaData item intent_name of type NSt3__112basic_stringIcNS_11char_traitsIcEENS_9allocatorIcEEEEfound, won't be written to image file\n",
      "\n",
      "WARNING: In /Users/runner/work/1/sitk-build/ITK/Modules/IO/Meta/src/itkMetaImageIO.cxx, line 653\n",
      "MetaImageIO (0x7feb6f815200): Unsupported or empty metaData item qto_xyz of type N3itk6MatrixIfLj4ELj4EEEfound, won't be written to image file\n",
      "\n"
     ]
    },
    {
     "name": "stdout",
     "output_type": "stream",
     "text": [
      "Converted /Users/oni/Documents/Emily/AIMS_TBI_evaluation_May24/example-evaluation-method/test/input/scan_1133_Lesion_dilated.nii.gz to /Users/oni/Documents/Emily/AIMS_TBI_evaluation_May24/example-evaluation-method/test/input/scan_1133_Lesion_dilated.mha\n"
     ]
    },
    {
     "name": "stderr",
     "output_type": "stream",
     "text": [
      "WARNING: In /Users/runner/work/1/sitk-build/ITK/Modules/IO/Meta/src/itkMetaImageIO.cxx, line 653\n",
      "MetaImageIO (0x7feb6e014e00): Unsupported or empty metaData item aux_file of type NSt3__112basic_stringIcNS_11char_traitsIcEENS_9allocatorIcEEEEfound, won't be written to image file\n",
      "\n",
      "WARNING: In /Users/runner/work/1/sitk-build/ITK/Modules/IO/Meta/src/itkMetaImageIO.cxx, line 653\n",
      "MetaImageIO (0x7feb6e014e00): Unsupported or empty metaData item intent_name of type NSt3__112basic_stringIcNS_11char_traitsIcEENS_9allocatorIcEEEEfound, won't be written to image file\n",
      "\n",
      "WARNING: In /Users/runner/work/1/sitk-build/ITK/Modules/IO/Meta/src/itkMetaImageIO.cxx, line 653\n",
      "MetaImageIO (0x7feb6e014e00): Unsupported or empty metaData item qto_xyz of type N3itk6MatrixIfLj4ELj4EEEfound, won't be written to image file\n",
      "\n"
     ]
    },
    {
     "name": "stdout",
     "output_type": "stream",
     "text": [
      "Converted /Users/oni/Documents/Emily/AIMS_TBI_evaluation_May24/example-evaluation-method/test/input/scan_0951_Lesion_dilated.nii.gz to /Users/oni/Documents/Emily/AIMS_TBI_evaluation_May24/example-evaluation-method/test/input/scan_0951_Lesion_dilated.mha\n"
     ]
    },
    {
     "name": "stderr",
     "output_type": "stream",
     "text": [
      "WARNING: In /Users/runner/work/1/sitk-build/ITK/Modules/IO/Meta/src/itkMetaImageIO.cxx, line 653\n",
      "MetaImageIO (0x7feb9f3ac600): Unsupported or empty metaData item aux_file of type NSt3__112basic_stringIcNS_11char_traitsIcEENS_9allocatorIcEEEEfound, won't be written to image file\n",
      "\n",
      "WARNING: In /Users/runner/work/1/sitk-build/ITK/Modules/IO/Meta/src/itkMetaImageIO.cxx, line 653\n",
      "MetaImageIO (0x7feb9f3ac600): Unsupported or empty metaData item intent_name of type NSt3__112basic_stringIcNS_11char_traitsIcEENS_9allocatorIcEEEEfound, won't be written to image file\n",
      "\n",
      "WARNING: In /Users/runner/work/1/sitk-build/ITK/Modules/IO/Meta/src/itkMetaImageIO.cxx, line 653\n",
      "MetaImageIO (0x7feb9f3ac600): Unsupported or empty metaData item qto_xyz of type N3itk6MatrixIfLj4ELj4EEEfound, won't be written to image file\n",
      "\n"
     ]
    },
    {
     "name": "stdout",
     "output_type": "stream",
     "text": [
      "Converted /Users/oni/Documents/Emily/AIMS_TBI_evaluation_May24/example-evaluation-method/test/input/scan_0038_Lesion_dilated.nii.gz to /Users/oni/Documents/Emily/AIMS_TBI_evaluation_May24/example-evaluation-method/test/input/scan_0038_Lesion_dilated.mha\n"
     ]
    },
    {
     "name": "stderr",
     "output_type": "stream",
     "text": [
      "WARNING: In /Users/runner/work/1/sitk-build/ITK/Modules/IO/Meta/src/itkMetaImageIO.cxx, line 653\n",
      "MetaImageIO (0x7feb6e014e00): Unsupported or empty metaData item aux_file of type NSt3__112basic_stringIcNS_11char_traitsIcEENS_9allocatorIcEEEEfound, won't be written to image file\n",
      "\n",
      "WARNING: In /Users/runner/work/1/sitk-build/ITK/Modules/IO/Meta/src/itkMetaImageIO.cxx, line 653\n",
      "MetaImageIO (0x7feb6e014e00): Unsupported or empty metaData item intent_name of type NSt3__112basic_stringIcNS_11char_traitsIcEENS_9allocatorIcEEEEfound, won't be written to image file\n",
      "\n",
      "WARNING: In /Users/runner/work/1/sitk-build/ITK/Modules/IO/Meta/src/itkMetaImageIO.cxx, line 653\n",
      "MetaImageIO (0x7feb6e014e00): Unsupported or empty metaData item qto_xyz of type N3itk6MatrixIfLj4ELj4EEEfound, won't be written to image file\n",
      "\n"
     ]
    },
    {
     "name": "stdout",
     "output_type": "stream",
     "text": [
      "Converted /Users/oni/Documents/Emily/AIMS_TBI_evaluation_May24/example-evaluation-method/test/input/scan_0245_Lesion_dilated.nii.gz to /Users/oni/Documents/Emily/AIMS_TBI_evaluation_May24/example-evaluation-method/test/input/scan_0245_Lesion_dilated.mha\n"
     ]
    },
    {
     "name": "stderr",
     "output_type": "stream",
     "text": [
      "WARNING: In /Users/runner/work/1/sitk-build/ITK/Modules/IO/Meta/src/itkMetaImageIO.cxx, line 653\n",
      "MetaImageIO (0x7feb6e015200): Unsupported or empty metaData item aux_file of type NSt3__112basic_stringIcNS_11char_traitsIcEENS_9allocatorIcEEEEfound, won't be written to image file\n",
      "\n",
      "WARNING: In /Users/runner/work/1/sitk-build/ITK/Modules/IO/Meta/src/itkMetaImageIO.cxx, line 653\n",
      "MetaImageIO (0x7feb6e015200): Unsupported or empty metaData item intent_name of type NSt3__112basic_stringIcNS_11char_traitsIcEENS_9allocatorIcEEEEfound, won't be written to image file\n",
      "\n",
      "WARNING: In /Users/runner/work/1/sitk-build/ITK/Modules/IO/Meta/src/itkMetaImageIO.cxx, line 653\n",
      "MetaImageIO (0x7feb6e015200): Unsupported or empty metaData item qto_xyz of type N3itk6MatrixIfLj4ELj4EEEfound, won't be written to image file\n",
      "\n"
     ]
    },
    {
     "name": "stdout",
     "output_type": "stream",
     "text": [
      "Converted /Users/oni/Documents/Emily/AIMS_TBI_evaluation_May24/example-evaluation-method/test/input/scan_0179_Lesion_dilated.nii.gz to /Users/oni/Documents/Emily/AIMS_TBI_evaluation_May24/example-evaluation-method/test/input/scan_0179_Lesion_dilated.mha\n",
      "Converted /Users/oni/Documents/Emily/AIMS_TBI_evaluation_May24/example-evaluation-method/test/input/scan_0101_Lesion_dilated.nii.gz to /Users/oni/Documents/Emily/AIMS_TBI_evaluation_May24/example-evaluation-method/test/input/scan_0101_Lesion_dilated.mha\n"
     ]
    },
    {
     "name": "stderr",
     "output_type": "stream",
     "text": [
      "WARNING: In /Users/runner/work/1/sitk-build/ITK/Modules/IO/Meta/src/itkMetaImageIO.cxx, line 653\n",
      "MetaImageIO (0x7feb9d896c00): Unsupported or empty metaData item aux_file of type NSt3__112basic_stringIcNS_11char_traitsIcEENS_9allocatorIcEEEEfound, won't be written to image file\n",
      "\n",
      "WARNING: In /Users/runner/work/1/sitk-build/ITK/Modules/IO/Meta/src/itkMetaImageIO.cxx, line 653\n",
      "MetaImageIO (0x7feb9d896c00): Unsupported or empty metaData item intent_name of type NSt3__112basic_stringIcNS_11char_traitsIcEENS_9allocatorIcEEEEfound, won't be written to image file\n",
      "\n",
      "WARNING: In /Users/runner/work/1/sitk-build/ITK/Modules/IO/Meta/src/itkMetaImageIO.cxx, line 653\n",
      "MetaImageIO (0x7feb9d896c00): Unsupported or empty metaData item qto_xyz of type N3itk6MatrixIfLj4ELj4EEEfound, won't be written to image file\n",
      "\n",
      "WARNING: In /Users/runner/work/1/sitk-build/ITK/Modules/IO/Meta/src/itkMetaImageIO.cxx, line 653\n",
      "MetaImageIO (0x7feb6e014e00): Unsupported or empty metaData item aux_file of type NSt3__112basic_stringIcNS_11char_traitsIcEENS_9allocatorIcEEEEfound, won't be written to image file\n",
      "\n",
      "WARNING: In /Users/runner/work/1/sitk-build/ITK/Modules/IO/Meta/src/itkMetaImageIO.cxx, line 653\n",
      "MetaImageIO (0x7feb6e014e00): Unsupported or empty metaData item intent_name of type NSt3__112basic_stringIcNS_11char_traitsIcEENS_9allocatorIcEEEEfound, won't be written to image file\n",
      "\n",
      "WARNING: In /Users/runner/work/1/sitk-build/ITK/Modules/IO/Meta/src/itkMetaImageIO.cxx, line 653\n",
      "MetaImageIO (0x7feb6e014e00): Unsupported or empty metaData item qto_xyz of type N3itk6MatrixIfLj4ELj4EEEfound, won't be written to image file\n",
      "\n"
     ]
    }
   ],
   "source": [
    "import os\n",
    "import SimpleITK as sitk\n",
    "\n",
    "# Define the current directory path\n",
    "current_directory = '/Users/oni/Documents/Emily/AIMS_TBI_evaluation_May24/example-evaluation-method/test/input'\n",
    "\n",
    "# List all files in the directory\n",
    "files = os.listdir(current_directory)\n",
    "\n",
    "# Loop through all files in the directory\n",
    "for file in files:\n",
    "    # Check if the file is a .nii.gz file\n",
    "    if file.endswith('.nii.gz'):\n",
    "        # Create the full path to the .nii.gz file\n",
    "        nifti_file = os.path.join(current_directory, file)\n",
    "        \n",
    "        # Load the NIfTI file\n",
    "        image = sitk.ReadImage(nifti_file)\n",
    "        \n",
    "        # Create the output filename with .mha extension\n",
    "        mha_file = os.path.join(current_directory, os.path.splitext(os.path.splitext(file)[0])[0] + '.mha')\n",
    "        \n",
    "        # Save the image as MetaImage (.mha)\n",
    "        sitk.WriteImage(image, mha_file)\n",
    "\n",
    "        print(f'Converted {nifti_file} to {mha_file}')\n"
   ]
  },
  {
   "cell_type": "code",
   "execution_count": null,
   "id": "00bcd7d5-1670-4925-b1bd-0e9502e7c4e6",
   "metadata": {},
   "outputs": [],
   "source": []
  }
 ],
 "metadata": {
  "kernelspec": {
   "display_name": "Python 3 (ipykernel)",
   "language": "python",
   "name": "python3"
  },
  "language_info": {
   "codemirror_mode": {
    "name": "ipython",
    "version": 3
   },
   "file_extension": ".py",
   "mimetype": "text/x-python",
   "name": "python",
   "nbconvert_exporter": "python",
   "pygments_lexer": "ipython3",
   "version": "3.11.8"
  }
 },
 "nbformat": 4,
 "nbformat_minor": 5
}
